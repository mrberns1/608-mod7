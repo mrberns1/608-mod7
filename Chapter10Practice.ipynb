{
 "cells": [
  {
   "cell_type": "code",
   "execution_count": 3,
   "id": "11dbae25-3696-462f-b643-c1994f728e4b",
   "metadata": {},
   "outputs": [],
   "source": [
    "from account import Account"
   ]
  },
  {
   "cell_type": "code",
   "execution_count": 4,
   "id": "d0eae7cc-550f-4e6f-85b7-7dda07191aed",
   "metadata": {},
   "outputs": [],
   "source": [
    "from decimal import Decimal"
   ]
  },
  {
   "cell_type": "code",
   "execution_count": 5,
   "id": "f4a7fc23-cc0e-43ef-bc65-103f34ac4684",
   "metadata": {},
   "outputs": [],
   "source": [
    "value = Decimal('12.34')"
   ]
  },
  {
   "cell_type": "code",
   "execution_count": 6,
   "id": "e69ff3eb-3ca3-4fc4-b572-7002461e13e7",
   "metadata": {},
   "outputs": [],
   "source": [
    "account1 = Account('John Green', Decimal('50.00'))"
   ]
  },
  {
   "cell_type": "code",
   "execution_count": 7,
   "id": "0657622e-978f-4df5-bc07-a2a1c762816a",
   "metadata": {},
   "outputs": [
    {
     "data": {
      "text/plain": [
       "'John Green'"
      ]
     },
     "execution_count": 7,
     "metadata": {},
     "output_type": "execute_result"
    }
   ],
   "source": [
    "account1.name"
   ]
  },
  {
   "cell_type": "code",
   "execution_count": 8,
   "id": "1a69f1e9-baf6-4609-8a99-ca9159b32366",
   "metadata": {},
   "outputs": [
    {
     "data": {
      "text/plain": [
       "Decimal('50.00')"
      ]
     },
     "execution_count": 8,
     "metadata": {},
     "output_type": "execute_result"
    }
   ],
   "source": [
    "account1.balance"
   ]
  },
  {
   "cell_type": "code",
   "execution_count": 9,
   "id": "db547792-91c5-4b51-9bc5-f3900b5dbc5a",
   "metadata": {},
   "outputs": [],
   "source": [
    "account1.deposit(Decimal('25.53'))"
   ]
  },
  {
   "cell_type": "code",
   "execution_count": 10,
   "id": "aa3fa63f-e8c6-4aa5-ba62-d4ff45ca635d",
   "metadata": {},
   "outputs": [
    {
     "data": {
      "text/plain": [
       "Decimal('75.53')"
      ]
     },
     "execution_count": 10,
     "metadata": {},
     "output_type": "execute_result"
    }
   ],
   "source": [
    "account1.balance"
   ]
  },
  {
   "cell_type": "code",
   "execution_count": 11,
   "id": "d760f864-7a8b-4e28-aee4-894f122360da",
   "metadata": {},
   "outputs": [
    {
     "ename": "ValueError",
     "evalue": "amount must be positive.",
     "output_type": "error",
     "traceback": [
      "\u001b[1;31m---------------------------------------------------------------------------\u001b[0m",
      "\u001b[1;31mValueError\u001b[0m                                Traceback (most recent call last)",
      "Input \u001b[1;32mIn [11]\u001b[0m, in \u001b[0;36m<cell line: 1>\u001b[1;34m()\u001b[0m\n\u001b[1;32m----> 1\u001b[0m \u001b[43maccount1\u001b[49m\u001b[38;5;241;43m.\u001b[39;49m\u001b[43mdeposit\u001b[49m\u001b[43m(\u001b[49m\u001b[43mDecimal\u001b[49m\u001b[43m(\u001b[49m\u001b[38;5;124;43m'\u001b[39;49m\u001b[38;5;124;43m-123.45\u001b[39;49m\u001b[38;5;124;43m'\u001b[39;49m\u001b[43m)\u001b[49m\u001b[43m)\u001b[49m\n",
      "File \u001b[1;32m~\\Desktop\\School\\44-608\\608-mod7\\ch10\\account.py:23\u001b[0m, in \u001b[0;36mAccount.deposit\u001b[1;34m(self, amount)\u001b[0m\n\u001b[0;32m     21\u001b[0m \u001b[38;5;66;03m# if amount is less than 0.00, raise an exception\u001b[39;00m\n\u001b[0;32m     22\u001b[0m \u001b[38;5;28;01mif\u001b[39;00m amount \u001b[38;5;241m<\u001b[39m Decimal(\u001b[38;5;124m'\u001b[39m\u001b[38;5;124m0.00\u001b[39m\u001b[38;5;124m'\u001b[39m):\n\u001b[1;32m---> 23\u001b[0m     \u001b[38;5;28;01mraise\u001b[39;00m \u001b[38;5;167;01mValueError\u001b[39;00m(\u001b[38;5;124m'\u001b[39m\u001b[38;5;124mamount must be positive.\u001b[39m\u001b[38;5;124m'\u001b[39m)\n\u001b[0;32m     25\u001b[0m \u001b[38;5;28mself\u001b[39m\u001b[38;5;241m.\u001b[39mbalance \u001b[38;5;241m+\u001b[39m\u001b[38;5;241m=\u001b[39m amount\n",
      "\u001b[1;31mValueError\u001b[0m: amount must be positive."
     ]
    }
   ],
   "source": [
    "account1.deposit(Decimal('-123.45'))"
   ]
  },
  {
   "cell_type": "code",
   "execution_count": 12,
   "id": "5faac9ed-b5aa-476c-9a85-a8ebaa68a2c4",
   "metadata": {},
   "outputs": [],
   "source": [
    "# account.py\n",
    "\"\"\"Account class definition.\"\"\"\n",
    "from decimal import Decimal\n",
    "\n",
    "class Account:\n",
    "    \"\"\"Account class for maintaining a bank account balance.\"\"\""
   ]
  },
  {
   "cell_type": "code",
   "execution_count": 13,
   "id": "fbc03d09-1aa9-4da1-8cce-0556cd611468",
   "metadata": {},
   "outputs": [
    {
     "data": {
      "text/plain": [
       "\u001b[1;31mInit signature:\u001b[0m \u001b[0mAccount\u001b[0m\u001b[1;33m(\u001b[0m\u001b[1;33m)\u001b[0m\u001b[1;33m\u001b[0m\u001b[1;33m\u001b[0m\u001b[0m\n",
       "\u001b[1;31mDocstring:\u001b[0m      Account class for maintaining a bank account balance.\n",
       "\u001b[1;31mType:\u001b[0m           type\n",
       "\u001b[1;31mSubclasses:\u001b[0m     \n"
      ]
     },
     "metadata": {},
     "output_type": "display_data"
    }
   ],
   "source": [
    "Account?"
   ]
  },
  {
   "cell_type": "code",
   "execution_count": 14,
   "id": "99e188ae-6000-4f29-af45-833661ace850",
   "metadata": {},
   "outputs": [],
   "source": [
    "def __init__(self, name, balance):\n",
    "    \"\"\"Initialize an Account object.\"\"\"\n",
    "    \n",
    "    # if balance is less than 0.00, raise an exception\n",
    "    if balance < Decimal('0.00'):\n",
    "        raise ValueError('Initial balance must be >= to 0.00.')\n",
    "    \n",
    "    self.name = name\n",
    "    self.balance = balance"
   ]
  },
  {
   "cell_type": "code",
   "execution_count": 15,
   "id": "202fa391-74b1-4ea0-9ceb-b74e961d8b06",
   "metadata": {},
   "outputs": [],
   "source": [
    "def deposit(self, amount):\n",
    "    \"\"\"Deposit money to the account.\"\"\"\n",
    "    \n",
    "    # if amount is less than 0.00, raise an exception\n",
    "    if amount < Decimal('0.00'):\n",
    "        raise ValueError('amount must be positive.')\n",
    "        \n",
    "    self.balance += amount"
   ]
  },
  {
   "cell_type": "code",
   "execution_count": 16,
   "id": "a5eca231-1c90-4f4b-bb1b-9775a6815b49",
   "metadata": {},
   "outputs": [],
   "source": [
    "def withdraw(self, amount):\n",
    "    \"\"\"Withdraw money from the account.\"\"\"\n",
    "    \n",
    "    #if amount is greater than balance, raise an exception\n",
    "    if amount > self.balance:\n",
    "        raise ValueError('amount must <= to balance.')\n",
    "    elif amount < Decimal('0.00'):\n",
    "        raise ValueError('amount must be positive.')\n",
    "        \n",
    "    self.balance -= amount"
   ]
  },
  {
   "cell_type": "code",
   "execution_count": 17,
   "id": "620e185f-e5ee-4ed5-a800-0643a349a156",
   "metadata": {},
   "outputs": [],
   "source": [
    "from account import Account"
   ]
  },
  {
   "cell_type": "code",
   "execution_count": 18,
   "id": "987f4154-cebc-4f11-a8bc-542c9eb67636",
   "metadata": {},
   "outputs": [],
   "source": [
    "from decimal import Decimal"
   ]
  },
  {
   "cell_type": "code",
   "execution_count": 19,
   "id": "03a37843-7f96-4f62-bd1e-d5b4f3d7d781",
   "metadata": {},
   "outputs": [],
   "source": [
    "account1 = Account('John Green', Decimal('50.00'))"
   ]
  },
  {
   "cell_type": "code",
   "execution_count": 20,
   "id": "b3182f59-e8b4-40ff-9f6c-41e3179e7f16",
   "metadata": {},
   "outputs": [
    {
     "ename": "AttributeError",
     "evalue": "'Account' object has no attribute 'withdraw'",
     "output_type": "error",
     "traceback": [
      "\u001b[1;31m---------------------------------------------------------------------------\u001b[0m",
      "\u001b[1;31mAttributeError\u001b[0m                            Traceback (most recent call last)",
      "Input \u001b[1;32mIn [20]\u001b[0m, in \u001b[0;36m<cell line: 1>\u001b[1;34m()\u001b[0m\n\u001b[1;32m----> 1\u001b[0m \u001b[43maccount1\u001b[49m\u001b[38;5;241;43m.\u001b[39;49m\u001b[43mwithdraw\u001b[49m(Decimal(\u001b[38;5;124m'\u001b[39m\u001b[38;5;124m20.00\u001b[39m\u001b[38;5;124m'\u001b[39m))\n",
      "\u001b[1;31mAttributeError\u001b[0m: 'Account' object has no attribute 'withdraw'"
     ]
    }
   ],
   "source": [
    "account1.withdraw(Decimal('20.00'))"
   ]
  },
  {
   "cell_type": "code",
   "execution_count": 21,
   "id": "4426260b-5f2c-408e-9ee2-714f1da16442",
   "metadata": {},
   "outputs": [
    {
     "data": {
      "text/plain": [
       "Decimal('50.00')"
      ]
     },
     "execution_count": 21,
     "metadata": {},
     "output_type": "execute_result"
    }
   ],
   "source": [
    "account1.balance"
   ]
  },
  {
   "cell_type": "code",
   "execution_count": 22,
   "id": "c07465e2-8347-4a23-8dc1-d536c0dc5941",
   "metadata": {},
   "outputs": [
    {
     "ename": "AttributeError",
     "evalue": "'Account' object has no attribute 'withdraw'",
     "output_type": "error",
     "traceback": [
      "\u001b[1;31m---------------------------------------------------------------------------\u001b[0m",
      "\u001b[1;31mAttributeError\u001b[0m                            Traceback (most recent call last)",
      "Input \u001b[1;32mIn [22]\u001b[0m, in \u001b[0;36m<cell line: 1>\u001b[1;34m()\u001b[0m\n\u001b[1;32m----> 1\u001b[0m \u001b[43maccount1\u001b[49m\u001b[38;5;241;43m.\u001b[39;49m\u001b[43mwithdraw\u001b[49m(Decimal(\u001b[38;5;124m'\u001b[39m\u001b[38;5;124m100.00\u001b[39m\u001b[38;5;124m'\u001b[39m))\n",
      "\u001b[1;31mAttributeError\u001b[0m: 'Account' object has no attribute 'withdraw'"
     ]
    }
   ],
   "source": [
    "account1.withdraw(Decimal('100.00'))"
   ]
  },
  {
   "cell_type": "code",
   "execution_count": 23,
   "id": "5015ed3f-9748-4d65-8308-f56ba0da7222",
   "metadata": {},
   "outputs": [],
   "source": [
    "from account import Account"
   ]
  },
  {
   "cell_type": "code",
   "execution_count": 24,
   "id": "00c278b1-fb22-49d1-b747-fc2ad7e28f2b",
   "metadata": {},
   "outputs": [],
   "source": [
    "from decimal import Decimal"
   ]
  },
  {
   "cell_type": "code",
   "execution_count": 25,
   "id": "bc17c611-9341-4532-a4d2-bda0a427aa32",
   "metadata": {},
   "outputs": [],
   "source": [
    "account1 = Account('John Green', Decimal('50.00'))"
   ]
  },
  {
   "cell_type": "code",
   "execution_count": 26,
   "id": "7cfedf85-78de-4daa-a32e-280f0b0ef817",
   "metadata": {},
   "outputs": [
    {
     "data": {
      "text/plain": [
       "Decimal('50.00')"
      ]
     },
     "execution_count": 26,
     "metadata": {},
     "output_type": "execute_result"
    }
   ],
   "source": [
    "account1.balance"
   ]
  },
  {
   "cell_type": "code",
   "execution_count": 27,
   "id": "b3737e2e-e331-43b7-800e-b063274aa6f6",
   "metadata": {},
   "outputs": [],
   "source": [
    "account1.balance = Decimal('-1000.00')"
   ]
  },
  {
   "cell_type": "code",
   "execution_count": 28,
   "id": "d33275f1-8b5c-4f7c-a9b1-40021915ae23",
   "metadata": {},
   "outputs": [
    {
     "data": {
      "text/plain": [
       "Decimal('-1000.00')"
      ]
     },
     "execution_count": 28,
     "metadata": {},
     "output_type": "execute_result"
    }
   ],
   "source": [
    "account1.balance"
   ]
  },
  {
   "cell_type": "code",
   "execution_count": 29,
   "id": "bbed1c98-1ec2-464a-a83a-7a89b6e35283",
   "metadata": {},
   "outputs": [],
   "source": [
    "from timewithproperties import Time"
   ]
  },
  {
   "cell_type": "code",
   "execution_count": 30,
   "id": "47495354-995e-4f9c-bf9f-5646b89bbb26",
   "metadata": {},
   "outputs": [],
   "source": [
    "wake_up = Time(hour=6, minute=30)"
   ]
  },
  {
   "cell_type": "code",
   "execution_count": 31,
   "id": "6fb3ae4c-af84-47fc-bc86-ff0e6b09a84f",
   "metadata": {},
   "outputs": [
    {
     "data": {
      "text/plain": [
       "Time(hour=6, minute=30, second=0)"
      ]
     },
     "execution_count": 31,
     "metadata": {},
     "output_type": "execute_result"
    }
   ],
   "source": [
    "wake_up"
   ]
  },
  {
   "cell_type": "code",
   "execution_count": 32,
   "id": "1c7c5182-bb50-4d61-a6c6-ab9473428814",
   "metadata": {},
   "outputs": [
    {
     "name": "stdout",
     "output_type": "stream",
     "text": [
      "6:30:00 AM\n"
     ]
    }
   ],
   "source": [
    "print(wake_up)"
   ]
  },
  {
   "cell_type": "code",
   "execution_count": 33,
   "id": "8d263dce-316c-4c2c-9c29-b8d870f46826",
   "metadata": {},
   "outputs": [
    {
     "data": {
      "text/plain": [
       "6"
      ]
     },
     "execution_count": 33,
     "metadata": {},
     "output_type": "execute_result"
    }
   ],
   "source": [
    "wake_up.hour"
   ]
  },
  {
   "cell_type": "code",
   "execution_count": 34,
   "id": "0bd236c3-95fc-4832-8d76-be2deada0bc8",
   "metadata": {},
   "outputs": [],
   "source": [
    "wake_up.set_time(hour=7, minute=45)"
   ]
  },
  {
   "cell_type": "code",
   "execution_count": 35,
   "id": "cb359f4b-cd7f-44d3-b14b-54906d792ae9",
   "metadata": {},
   "outputs": [
    {
     "data": {
      "text/plain": [
       "Time(hour=7, minute=45, second=0)"
      ]
     },
     "execution_count": 35,
     "metadata": {},
     "output_type": "execute_result"
    }
   ],
   "source": [
    "wake_up"
   ]
  },
  {
   "cell_type": "code",
   "execution_count": 36,
   "id": "b30b696b-e451-4f37-b1ca-d7af7f013ebb",
   "metadata": {},
   "outputs": [],
   "source": [
    "wake_up.hour = 6"
   ]
  },
  {
   "cell_type": "code",
   "execution_count": 37,
   "id": "e40576d3-8708-4e04-8f65-ada5205f2b64",
   "metadata": {},
   "outputs": [
    {
     "data": {
      "text/plain": [
       "Time(hour=6, minute=45, second=0)"
      ]
     },
     "execution_count": 37,
     "metadata": {},
     "output_type": "execute_result"
    }
   ],
   "source": [
    "wake_up"
   ]
  },
  {
   "cell_type": "code",
   "execution_count": 38,
   "id": "6b533005-2897-4d18-a8f5-c278a070f658",
   "metadata": {},
   "outputs": [
    {
     "ename": "ValueError",
     "evalue": "Hour (100) must be 0-23",
     "output_type": "error",
     "traceback": [
      "\u001b[1;31m---------------------------------------------------------------------------\u001b[0m",
      "\u001b[1;31mValueError\u001b[0m                                Traceback (most recent call last)",
      "Input \u001b[1;32mIn [38]\u001b[0m, in \u001b[0;36m<cell line: 1>\u001b[1;34m()\u001b[0m\n\u001b[1;32m----> 1\u001b[0m wake_up\u001b[38;5;241m.\u001b[39mhour \u001b[38;5;241m=\u001b[39m \u001b[38;5;241m100\u001b[39m\n",
      "File \u001b[1;32m~\\Desktop\\School\\44-608\\608-mod7\\ch10\\timewithproperties.py:22\u001b[0m, in \u001b[0;36mTime.hour\u001b[1;34m(self, hour)\u001b[0m\n\u001b[0;32m     20\u001b[0m \u001b[38;5;124;03m\"\"\"Set the hour.\"\"\"\u001b[39;00m\n\u001b[0;32m     21\u001b[0m \u001b[38;5;28;01mif\u001b[39;00m \u001b[38;5;129;01mnot\u001b[39;00m (\u001b[38;5;241m0\u001b[39m \u001b[38;5;241m<\u001b[39m\u001b[38;5;241m=\u001b[39m hour \u001b[38;5;241m<\u001b[39m \u001b[38;5;241m24\u001b[39m):\n\u001b[1;32m---> 22\u001b[0m     \u001b[38;5;28;01mraise\u001b[39;00m \u001b[38;5;167;01mValueError\u001b[39;00m(\u001b[38;5;124mf\u001b[39m\u001b[38;5;124m'\u001b[39m\u001b[38;5;124mHour (\u001b[39m\u001b[38;5;132;01m{\u001b[39;00mhour\u001b[38;5;132;01m}\u001b[39;00m\u001b[38;5;124m) must be 0-23\u001b[39m\u001b[38;5;124m'\u001b[39m)\n\u001b[0;32m     24\u001b[0m \u001b[38;5;28mself\u001b[39m\u001b[38;5;241m.\u001b[39m_hour \u001b[38;5;241m=\u001b[39m hour\n",
      "\u001b[1;31mValueError\u001b[0m: Hour (100) must be 0-23"
     ]
    }
   ],
   "source": [
    "wake_up.hour = 100"
   ]
  },
  {
   "cell_type": "code",
   "execution_count": 39,
   "id": "a56b0078-c59d-4083-84b8-8ce6bdcfa362",
   "metadata": {},
   "outputs": [],
   "source": [
    "# timewithproperties.py\n",
    "\"\"\"Class Time with read-write properties.\"\"\"\n",
    "\n",
    "class Time:\n",
    "    \"\"\"Class Time with read-write properties.\"\"\"\n",
    "    \n",
    "    def _init_(self, hour=0, minute=0, second=0):\n",
    "        \"\"\"Initialize each attribute.\"\"\"\n",
    "        self.hour = hour # 0-23\n",
    "        self.minute = minute # 0-59\n",
    "        self.second = second # 0-59"
   ]
  },
  {
   "cell_type": "code",
   "execution_count": 40,
   "id": "90c6bf49-29ec-4a1d-8f82-21a3c361632a",
   "metadata": {},
   "outputs": [],
   "source": [
    "@property\n",
    "def hour(self):\n",
    "    \"\"\"Return the hour.\"\"\"\n",
    "    \n",
    "@hour.setter\n",
    "def hour(self, hour):\n",
    "    \"\"\"Set the hour.\"\"\"\n",
    "    if not (0 <= hour < 24):\n",
    "        raise ValueError(f'Hour({hour}) must be 0-23')\n",
    "        \n",
    "    self._hour = hour"
   ]
  },
  {
   "cell_type": "code",
   "execution_count": 41,
   "id": "4bfde994-99d4-4fce-bbda-3fb26671c851",
   "metadata": {},
   "outputs": [],
   "source": [
    "@property\n",
    "def minute(self):\n",
    "    \"\"\"Return the minute.\"\"\"\n",
    "    return self._minute\n",
    "\n",
    "@minute.setter\n",
    "def minute(self, minute):\n",
    "    \"\"\"Set the minute.\"\"\"\n",
    "    if not (0 <= minute < 60):\n",
    "        raise ValueError(f'Minute({minute}) must be 0-59')\n",
    "                         \n",
    "    self._minute = minute\n",
    "\n",
    "@property\n",
    "def second(self):\n",
    "    \"\"\"Return the second.\"\"\"\n",
    "    return self._second\n",
    "                         \n",
    "@second.setter\n",
    "def second(self, second):\n",
    "    \"\"\"Set the second.\"\"\"\n",
    "    if not (0 <= second < 60):\n",
    "        raise ValueError(f'Second ({second}) must be 0-59')\n",
    "        \n",
    "    self._second = second"
   ]
  },
  {
   "cell_type": "code",
   "execution_count": 42,
   "id": "a06ac858-5178-44ff-94d8-4d45d9523abb",
   "metadata": {},
   "outputs": [],
   "source": [
    "def set_time(self, hour=0, minute=0, second=0):\n",
    "    \"\"\"Set values of hour, minute, and second.\"\"\"\n",
    "    self.hour = hour\n",
    "    self.minute = minute\n",
    "    self.second = second"
   ]
  },
  {
   "cell_type": "code",
   "execution_count": 43,
   "id": "f4f22ff2-bd2f-4894-9dd0-ec917fd9d667",
   "metadata": {},
   "outputs": [],
   "source": [
    "def _repr_(self):\n",
    "    \"\"\"Return Time string for repr().\"\"\"\n",
    "    return (f'Time(hour={self.hour}, minute={self.minute}, ' +\n",
    "            f'second={self.second})')"
   ]
  },
  {
   "cell_type": "code",
   "execution_count": 44,
   "id": "af287b48-62dd-41b7-8388-68312d333c58",
   "metadata": {},
   "outputs": [],
   "source": [
    "def _str_(self):\n",
    "    \"\"\"Print Time in 12 hour clock format.\"\"\"\n",
    "    return (('12' if self.hour in (0, 12) else str(self.hour % 12)) +\n",
    "            f':{self.minute:0>2}:{self.second:0>2}' +\n",
    "            (' AM' if self.hour < 12 else ' PM'))"
   ]
  },
  {
   "cell_type": "code",
   "execution_count": 45,
   "id": "bb52b928-36bd-4075-8a43-e630c7569e74",
   "metadata": {},
   "outputs": [],
   "source": [
    "@property\n",
    "def time(self):\n",
    "    \"\"\"Return hour, minute, and second as a tuple.\"\"\"\n",
    "    return (self.hour, self.minute, self.second)\n",
    "\n",
    "@time.setter\n",
    "def time(self, time_tuple):\n",
    "    \"\"\"Set time from a tuple containing hour, minute and second.\"\"\"\n",
    "    self.set_time(time_tuple[0], time_tuple[1], time_tuple[2])"
   ]
  },
  {
   "cell_type": "code",
   "execution_count": 46,
   "id": "d22f8fa2-e777-476d-8e91-67cff16a543b",
   "metadata": {},
   "outputs": [],
   "source": [
    "from timewithproperties import Time"
   ]
  },
  {
   "cell_type": "code",
   "execution_count": 47,
   "id": "c47bd5cf-55fe-40f6-93f8-ddf2dc2b55d3",
   "metadata": {},
   "outputs": [],
   "source": [
    "t = Time()"
   ]
  },
  {
   "cell_type": "code",
   "execution_count": 48,
   "id": "cec1ae01-cf12-4a3f-9ca0-f2959ecbd1ac",
   "metadata": {},
   "outputs": [
    {
     "data": {
      "text/plain": [
       "Time(hour=0, minute=0, second=0)"
      ]
     },
     "execution_count": 48,
     "metadata": {},
     "output_type": "execute_result"
    }
   ],
   "source": [
    "t"
   ]
  },
  {
   "cell_type": "code",
   "execution_count": 49,
   "id": "9cdb6b6c-ce10-4119-946e-bbd6c05d6dee",
   "metadata": {},
   "outputs": [],
   "source": [
    "t.time = (12, 30, 45)"
   ]
  },
  {
   "cell_type": "code",
   "execution_count": 50,
   "id": "46678cc6-52ae-418d-aa2d-a7e818bc69e7",
   "metadata": {},
   "outputs": [
    {
     "data": {
      "text/plain": [
       "(12, 30, 45)"
      ]
     },
     "execution_count": 50,
     "metadata": {},
     "output_type": "execute_result"
    }
   ],
   "source": [
    "t.time"
   ]
  },
  {
   "cell_type": "code",
   "execution_count": 51,
   "id": "63fc5a7f-75d9-493f-92c2-12e054b7b0ac",
   "metadata": {},
   "outputs": [],
   "source": [
    "from timewithproperties import Time"
   ]
  },
  {
   "cell_type": "code",
   "execution_count": 52,
   "id": "2dfd2d4b-f449-4d74-a21a-9eed8c59ad24",
   "metadata": {},
   "outputs": [],
   "source": [
    "wake_up = Time(hour=7, minute=45, second=30)"
   ]
  },
  {
   "cell_type": "code",
   "execution_count": 53,
   "id": "31c291aa-7458-4930-8ae6-38f76ed18282",
   "metadata": {},
   "outputs": [
    {
     "data": {
      "text/plain": [
       "7"
      ]
     },
     "execution_count": 53,
     "metadata": {},
     "output_type": "execute_result"
    }
   ],
   "source": [
    "wake_up._hour"
   ]
  },
  {
   "cell_type": "code",
   "execution_count": 54,
   "id": "dc51ebd4-eb9a-45f9-a274-450dcd0d7ea3",
   "metadata": {},
   "outputs": [],
   "source": [
    "wake_up._hour = 100"
   ]
  },
  {
   "cell_type": "code",
   "execution_count": 55,
   "id": "5494bc1f-a605-4082-8b73-f274dbea39d4",
   "metadata": {},
   "outputs": [
    {
     "data": {
      "text/plain": [
       "Time(hour=100, minute=45, second=30)"
      ]
     },
     "execution_count": 55,
     "metadata": {},
     "output_type": "execute_result"
    }
   ],
   "source": [
    "wake_up"
   ]
  },
  {
   "cell_type": "code",
   "execution_count": 56,
   "id": "2a0abefd-d8c2-4b32-a602-1998f80d2028",
   "metadata": {},
   "outputs": [],
   "source": [
    "# private.py\n",
    "\"Class with public and private attributes.\"\"\"\n",
    "\n",
    "class PrivateClass:\n",
    "    \"\"\"Class with public and private attributes.\"\"\"\n",
    "    \n",
    "    def _init_(self):\n",
    "        \"\"\"Initialize the public and private attributes.\"\"\"\n",
    "        self.public_data = \"public\" #public attribute\n",
    "        self._private_data = \"private\" #private attribute"
   ]
  },
  {
   "cell_type": "code",
   "execution_count": 57,
   "id": "83dc7bf6-ed00-4cf5-bb64-82d7d385c444",
   "metadata": {},
   "outputs": [],
   "source": [
    "from private import PrivateClass"
   ]
  },
  {
   "cell_type": "code",
   "execution_count": 58,
   "id": "9e00893c-91db-42bb-aba9-f67a68f71ec9",
   "metadata": {},
   "outputs": [],
   "source": [
    "my_object = PrivateClass()"
   ]
  },
  {
   "cell_type": "code",
   "execution_count": 59,
   "id": "426c7f41-6570-491c-adc1-f7ae895e4799",
   "metadata": {},
   "outputs": [
    {
     "data": {
      "text/plain": [
       "'public'"
      ]
     },
     "execution_count": 59,
     "metadata": {},
     "output_type": "execute_result"
    }
   ],
   "source": [
    "my_object.public_data"
   ]
  },
  {
   "cell_type": "code",
   "execution_count": 60,
   "id": "9102ba68-c4ea-43c4-b44f-6e5f65d6837e",
   "metadata": {},
   "outputs": [
    {
     "ename": "AttributeError",
     "evalue": "'PrivateClass' object has no attribute '_private_data'",
     "output_type": "error",
     "traceback": [
      "\u001b[1;31m---------------------------------------------------------------------------\u001b[0m",
      "\u001b[1;31mAttributeError\u001b[0m                            Traceback (most recent call last)",
      "Input \u001b[1;32mIn [60]\u001b[0m, in \u001b[0;36m<cell line: 1>\u001b[1;34m()\u001b[0m\n\u001b[1;32m----> 1\u001b[0m \u001b[43mmy_object\u001b[49m\u001b[38;5;241;43m.\u001b[39;49m\u001b[43m_private_data\u001b[49m\n",
      "\u001b[1;31mAttributeError\u001b[0m: 'PrivateClass' object has no attribute '_private_data'"
     ]
    }
   ],
   "source": [
    "my_object._private_data"
   ]
  },
  {
   "cell_type": "code",
   "execution_count": 61,
   "id": "ad496c27-5856-48c7-abec-b821938060c3",
   "metadata": {},
   "outputs": [
    {
     "data": {
      "text/plain": [
       "'private'"
      ]
     },
     "execution_count": 61,
     "metadata": {},
     "output_type": "execute_result"
    }
   ],
   "source": [
    "my_object._PrivateClass__private_data"
   ]
  },
  {
   "cell_type": "code",
   "execution_count": 62,
   "id": "ff567a14-44c5-440c-84b9-bcf136293e73",
   "metadata": {},
   "outputs": [],
   "source": [
    "my_object._PrivateClass__private_data = 'modified'"
   ]
  },
  {
   "cell_type": "code",
   "execution_count": 63,
   "id": "d6b2be3a-4351-4dc0-8dc4-335bd33697bc",
   "metadata": {},
   "outputs": [
    {
     "data": {
      "text/plain": [
       "'modified'"
      ]
     },
     "execution_count": 63,
     "metadata": {},
     "output_type": "execute_result"
    }
   ],
   "source": [
    "my_object._PrivateClass__private_data"
   ]
  },
  {
   "cell_type": "code",
   "execution_count": 64,
   "id": "a1232361-6a03-433b-b1ea-39138ca12011",
   "metadata": {},
   "outputs": [],
   "source": [
    "from deck import DeckOfCards"
   ]
  },
  {
   "cell_type": "code",
   "execution_count": 65,
   "id": "41ea534d-6e90-4f95-b05a-7e3f70ebe19c",
   "metadata": {},
   "outputs": [],
   "source": [
    "deck_of_cards = DeckOfCards()"
   ]
  },
  {
   "cell_type": "code",
   "execution_count": 66,
   "id": "c9ee72ac-903e-448f-ba3a-884ca02df170",
   "metadata": {},
   "outputs": [
    {
     "name": "stdout",
     "output_type": "stream",
     "text": [
      "Ace of Hearts      2 of Hearts        3 of Hearts        4 of Hearts        \n",
      "5 of Hearts        6 of Hearts        7 of Hearts        8 of Hearts        \n",
      "9 of Hearts        10 of Hearts       Jack of Hearts     Queen of Hearts    \n",
      "King of Hearts     Ace of Diamonds    2 of Diamonds      3 of Diamonds      \n",
      "4 of Diamonds      5 of Diamonds      6 of Diamonds      7 of Diamonds      \n",
      "8 of Diamonds      9 of Diamonds      10 of Diamonds     Jack of Diamonds   \n",
      "Queen of Diamonds  King of Diamonds   Ace of Clubs       2 of Clubs         \n",
      "3 of Clubs         4 of Clubs         5 of Clubs         6 of Clubs         \n",
      "7 of Clubs         8 of Clubs         9 of Clubs         10 of Clubs        \n",
      "Jack of Clubs      Queen of Clubs     King of Clubs      Ace of Spades      \n",
      "2 of Spades        3 of Spades        4 of Spades        5 of Spades        \n",
      "6 of Spades        7 of Spades        8 of Spades        9 of Spades        \n",
      "10 of Spades       Jack of Spades     Queen of Spades    King of Spades     \n",
      "\n"
     ]
    }
   ],
   "source": [
    "print(deck_of_cards)"
   ]
  },
  {
   "cell_type": "code",
   "execution_count": 67,
   "id": "0e67eb1a-641a-41b2-9c69-ef56f5111635",
   "metadata": {},
   "outputs": [],
   "source": [
    "deck_of_cards.shuffle()"
   ]
  },
  {
   "cell_type": "code",
   "execution_count": 68,
   "id": "8342fb1f-c6fb-4d28-a337-8fe4b0f228e2",
   "metadata": {},
   "outputs": [
    {
     "name": "stdout",
     "output_type": "stream",
     "text": [
      "Queen of Hearts    10 of Spades       2 of Spades        King of Diamonds   \n",
      "King of Hearts     Jack of Spades     8 of Clubs         4 of Diamonds      \n",
      "King of Clubs      9 of Spades        3 of Spades        5 of Hearts        \n",
      "Jack of Hearts     8 of Diamonds      7 of Diamonds      Queen of Diamonds  \n",
      "10 of Clubs        8 of Spades        Queen of Spades    7 of Spades        \n",
      "7 of Clubs         6 of Hearts        Ace of Spades      3 of Clubs         \n",
      "6 of Diamonds      5 of Diamonds      6 of Spades        8 of Hearts        \n",
      "Jack of Clubs      4 of Hearts        2 of Diamonds      Jack of Diamonds   \n",
      "9 of Clubs         4 of Spades        10 of Hearts       10 of Diamonds     \n",
      "Ace of Diamonds    2 of Clubs         Ace of Hearts      5 of Spades        \n",
      "3 of Hearts        Queen of Clubs     9 of Diamonds      King of Spades     \n",
      "4 of Clubs         Ace of Clubs       3 of Diamonds      6 of Clubs         \n",
      "9 of Hearts        5 of Clubs         2 of Hearts        7 of Hearts        \n",
      "\n"
     ]
    }
   ],
   "source": [
    "print(deck_of_cards)"
   ]
  },
  {
   "cell_type": "code",
   "execution_count": 69,
   "id": "2efb70f8-fb01-4c11-bb14-a66524ebb4c3",
   "metadata": {},
   "outputs": [
    {
     "data": {
      "text/plain": [
       "Card(face='Queen', suit='Hearts')"
      ]
     },
     "execution_count": 69,
     "metadata": {},
     "output_type": "execute_result"
    }
   ],
   "source": [
    "deck_of_cards.deal_card()"
   ]
  },
  {
   "cell_type": "code",
   "execution_count": 70,
   "id": "7b4ae46e-962a-48fd-baeb-1bd39482a543",
   "metadata": {},
   "outputs": [],
   "source": [
    "card = deck_of_cards.deal_card()"
   ]
  },
  {
   "cell_type": "code",
   "execution_count": 71,
   "id": "69d71eb4-9a2d-41e7-8d0d-e62f1e416d5c",
   "metadata": {},
   "outputs": [
    {
     "data": {
      "text/plain": [
       "'10 of Spades'"
      ]
     },
     "execution_count": 71,
     "metadata": {},
     "output_type": "execute_result"
    }
   ],
   "source": [
    "str(card)"
   ]
  },
  {
   "cell_type": "code",
   "execution_count": 72,
   "id": "aedc9590-02e4-4c7f-ad7d-63964944f27d",
   "metadata": {},
   "outputs": [
    {
     "data": {
      "text/plain": [
       "'10_of_Spades.png'"
      ]
     },
     "execution_count": 72,
     "metadata": {},
     "output_type": "execute_result"
    }
   ],
   "source": [
    "card.image_name"
   ]
  },
  {
   "cell_type": "code",
   "execution_count": 73,
   "id": "26c6039b-dac8-429f-9642-9bfa8a9b664b",
   "metadata": {},
   "outputs": [],
   "source": [
    "# card.py\n",
    "\"\"\"Card class that represents a playing card and its image file name.\"\"\"\n",
    "\n",
    "class Card:\n",
    "    FACES = ['Ace', '2', '3', '4', '5', '6',\n",
    "             '7', '8', '9', '10', 'Jack', 'Queen', 'King']\n",
    "    SUITS = ['Hearts', 'Diamonds', 'Clubs', 'Spades']"
   ]
  },
  {
   "cell_type": "code",
   "execution_count": 74,
   "id": "c2c5e26b-7525-40f1-8c2d-688431075b14",
   "metadata": {},
   "outputs": [],
   "source": [
    "def __init__(self, face, suit):\n",
    "    \"\"\"Initialize a Card with a face and suit.\"\"\"\n",
    "    self._face = face\n",
    "    self._suit = suit"
   ]
  },
  {
   "cell_type": "code",
   "execution_count": 75,
   "id": "d3881820-7115-46f9-97b0-12f9523dfbac",
   "metadata": {},
   "outputs": [],
   "source": [
    "@property\n",
    "def face(self):\n",
    "    \"\"\"Return the Card's self._face value.\"\"\"\n",
    "    return self._face\n",
    "\n",
    "@property\n",
    "def suit(self):\n",
    "    \"\"\"Return the Card's self._suit value.\"\"\"\n",
    "    return self._suit\n",
    "    \n",
    "@property\n",
    "def image_name(self):\n",
    "    \"\"\"Return the Card's image file name.\"\"\"\n",
    "    return str(self).replace(' ', '_') + '.png'"
   ]
  },
  {
   "cell_type": "code",
   "execution_count": 76,
   "id": "c2e3f604-4763-4832-aa0f-e3b845c853ff",
   "metadata": {},
   "outputs": [],
   "source": [
    "def __repr__(self):\n",
    "    \"\"\"Return string representation for repr().\"\"\"\n",
    "    return f\"Card(face='{self.face}', suit='{self.suit}')\"\n",
    "\n",
    "def _str_(self):\n",
    "    \"\"\"Return string representation for str().\"\"\"\n",
    "    return f'{self.face} of {self.suit}'"
   ]
  },
  {
   "cell_type": "code",
   "execution_count": 77,
   "id": "6f17630d-6889-4902-ad28-e3bf51b1ec16",
   "metadata": {},
   "outputs": [],
   "source": [
    "def __format__(self, format):\n",
    "    \"\"\"Return formatted string representation for str().\"\"\"\n",
    "    return f'{str(self):{format}}'"
   ]
  },
  {
   "cell_type": "code",
   "execution_count": 78,
   "id": "577c5dec-faef-4fc3-b5a7-03d401ff6cd8",
   "metadata": {},
   "outputs": [],
   "source": [
    "# deck.py\n",
    "\"\"\"Deck class represents a deck of Cards.\"\"\"\n",
    "import random\n",
    "from card import Card\n",
    "\n",
    "class DeckofCards:\n",
    "    NUMBER_OF_CARDS = 52 # constant number of Cards\n",
    "    \n",
    "    def __init__(self):\n",
    "        \"\"\"Initialize the deck.\"\"\"\n",
    "        self._current_card = 0\n",
    "        self._deck = []\n",
    "        \n",
    "        for count in range(DeckOfCards.NUMBER_OF_CARDS):\n",
    "            self._deck.append(Card(Card.FACES[count % 13],\n",
    "                Card.SUITS[count // 13]))"
   ]
  },
  {
   "cell_type": "code",
   "execution_count": 79,
   "id": "92903142-9b86-4157-98bf-3314fab49454",
   "metadata": {},
   "outputs": [],
   "source": [
    "def shuffle(self):\n",
    "    \"\"\"Shuffle deck.\"\"\"\n",
    "    self._current_card = 0\n",
    "    random.shuffle(self._deck)"
   ]
  },
  {
   "cell_type": "code",
   "execution_count": 80,
   "id": "cc301159-292f-48ee-a0ce-c1ffe7105738",
   "metadata": {},
   "outputs": [],
   "source": [
    "def deal_card(self):\n",
    "    \"\"\"Return one Card.\"\"\"\n",
    "    try:\n",
    "        card = self._deck[self._current_card]\n",
    "        self._current_card += 1\n",
    "        return card\n",
    "    except:\n",
    "        return None"
   ]
  },
  {
   "cell_type": "code",
   "execution_count": 81,
   "id": "f9bd08aa-bfd1-4da9-a6b5-df424226409e",
   "metadata": {},
   "outputs": [],
   "source": [
    "def __str__(self):\n",
    "    \"\"\"Return a string representation of the current _deck.\"\"\"\n",
    "    s = ''\n",
    "    \n",
    "    for index, card in enumerate(self._deck):\n",
    "        s += f'{self._deck[index]:<19}'\n",
    "        if (index + 1) % 4 == 0:\n",
    "            s += '\\n'\n",
    "            \n",
    "        return s"
   ]
  },
  {
   "cell_type": "code",
   "execution_count": 82,
   "id": "d2af860b-e9dd-4839-aee5-636d10dd24c2",
   "metadata": {},
   "outputs": [],
   "source": [
    "from deck import DeckOfCards"
   ]
  },
  {
   "cell_type": "code",
   "execution_count": 83,
   "id": "b140cb58-503c-412c-a2a8-1c4db5559214",
   "metadata": {},
   "outputs": [],
   "source": [
    "deck_of_cards = DeckOfCards()"
   ]
  },
  {
   "cell_type": "code",
   "execution_count": 84,
   "id": "2e5a6817-0728-4283-86b1-d5d5aa94cfb5",
   "metadata": {},
   "outputs": [
    {
     "name": "stdout",
     "output_type": "stream",
     "text": [
      "Using matplotlib backend: <object object at 0x000001F8AE83B220>\n"
     ]
    }
   ],
   "source": [
    "%matplotlib"
   ]
  },
  {
   "cell_type": "code",
   "execution_count": 85,
   "id": "d11a26e9-de06-4dac-aea5-ced04a9ea28c",
   "metadata": {},
   "outputs": [],
   "source": [
    "from pathlib import Path"
   ]
  },
  {
   "cell_type": "code",
   "execution_count": 86,
   "id": "bfa86a78-4fd0-40b5-a4e6-c8e49a130039",
   "metadata": {},
   "outputs": [],
   "source": [
    "path = Path(' . ').joinpath('card_images')"
   ]
  },
  {
   "cell_type": "code",
   "execution_count": 87,
   "id": "7b53083d-c5f1-4421-9edf-a040efe6cdf1",
   "metadata": {},
   "outputs": [],
   "source": [
    "import matplotlib.pyplot as plt"
   ]
  },
  {
   "cell_type": "code",
   "execution_count": 88,
   "id": "a672a255-2474-4802-8792-194f5b215744",
   "metadata": {},
   "outputs": [],
   "source": [
    "import matplotlib.image as mpimg"
   ]
  },
  {
   "cell_type": "code",
   "execution_count": 90,
   "id": "e14062de-145a-499b-be16-1739d9969492",
   "metadata": {},
   "outputs": [],
   "source": [
    "figure, axes_list = plt.subplots(nrows=4, ncols=13)"
   ]
  },
  {
   "cell_type": "code",
   "execution_count": 91,
   "id": "7bf5050a-7b9a-4480-96f0-75a4005330cd",
   "metadata": {},
   "outputs": [],
   "source": [
    "for axes in axes_list.ravel():\n",
    "    axes.get_xaxis().set_visible(False)\n",
    "    axes.get_yaxis().set_visible(False)\n",
    "    image_name = deck_of_cards.deal_card().image_name\n",
    "    img = mpimg.imread(str(path.joinpath(image_name).resolve()))\n",
    "    axes.imshow(img)"
   ]
  },
  {
   "cell_type": "code",
   "execution_count": 92,
   "id": "a6660470-210b-4754-8fbe-29690326ba2d",
   "metadata": {},
   "outputs": [],
   "source": [
    "figure.tight_layout()"
   ]
  },
  {
   "cell_type": "code",
   "execution_count": 93,
   "id": "f802c60b-bc94-4ecc-9835-43a679a6a5af",
   "metadata": {},
   "outputs": [],
   "source": [
    "deck_of_cards.shuffle()"
   ]
  },
  {
   "cell_type": "code",
   "execution_count": 94,
   "id": "fa4b1a7b-d3dd-46b0-b019-5058c3833c69",
   "metadata": {},
   "outputs": [],
   "source": [
    "for axes in axes_list.ravel():\n",
    "    axes.get_xaxis().set_visible(False)\n",
    "    axes.get_yaxis().set_visible(False)\n",
    "    image_name = deck_of_cards.deal_card().image_name\n",
    "    img = mpimg.imread(str(path.joinpath(image_name).resolve()))\n",
    "    axes.imshow(img)"
   ]
  },
  {
   "cell_type": "code",
   "execution_count": 96,
   "id": "4cd8ce26-a008-43f9-b281-0b50a1809866",
   "metadata": {},
   "outputs": [],
   "source": [
    "deck_of_cards.shuffle()\n",
    "\n",
    "figure, axes_list = plt.subplots(nrows=2, ncols=5)\n",
    "\n",
    "for axes in axes_list.ravel():\n",
    "    axes.get_xaxis().set_visible(False)\n",
    "    axes.get_yaxis().set_visible(False)\n",
    "    image_name = deck_of_cards.deal_card().image_name\n",
    "    img = mpimg.imread(str(path.joinpath(image_name).resolve()))\n",
    "    axes.imshow(img)\n",
    "\n",
    "figure.tight_layout()"
   ]
  },
  {
   "cell_type": "code",
   "execution_count": 97,
   "id": "381a5c9b-bdf5-49d3-a3b4-12f6ce5ab4df",
   "metadata": {},
   "outputs": [],
   "source": [
    "# commissionemployee.py\n",
    "\"\"\"CommissionEmployee base class.\"\"\"\n",
    "from decimal import Decimal\n",
    "\n",
    "class CommissionEmployee:\n",
    "    \"\"\"An employee who gets paid commission based on gross sales.\"\"\"\n",
    "    \n",
    "    def __init__(self, first_name, last_name, ssn, gross_sales, commission_rate):\n",
    "        \"\"\"Initialize CommissionEmployee's attributes.\"\"\"\n",
    "        self._first_name = first_name\n",
    "        self._last_name = last_name\n",
    "        self._ssn = ssn\n",
    "        self.gross_sales = gross_sales # validate via property\n",
    "        self.commission_rate = commission_rate # validate via property\n",
    "    \n",
    "    @property\n",
    "    def first_name(self):\n",
    "        return self._first_name\n",
    "    \n",
    "    @property\n",
    "    def last_name(self):\n",
    "        return self._last_name\n",
    "    \n",
    "    @property\n",
    "    def ssn(self):\n",
    "        return self._ssn\n",
    "    \n",
    "    @property\n",
    "    def gross_sales(self):\n",
    "        return self._gross_sales\n",
    "    \n",
    "    @gross_sales.setter\n",
    "    def gross_sales(self, sales):\n",
    "        \"\"\"Set gross sales or raise ValueError if invalid.\"\"\"\n",
    "        if sales < Decimal('0.00'):\n",
    "            raise ValueError('Gross sales must be >= to 0')\n",
    "        \n",
    "        self._gross_sales = sales\n",
    "    \n",
    "    @property\n",
    "    def commission_rate(self):\n",
    "        return self._commission_rate\n",
    "    \n",
    "    @commission_rate.setter\n",
    "    def commission_rate(self, rate):\n",
    "        \"\"\"Set commission rate or raise ValueError if invalid.\"\"\"\n",
    "        if not (Decimal('0.00') < rate < Decimal('1.0')):\n",
    "            raise ValueError('Interest rate must be greater than 0 and less than 1')\n",
    "        \n",
    "        self._commission_rate = rate\n",
    "        \n",
    "    def earnings(self):\n",
    "        \"\"\"Calculate earnings.\"\"\"\n",
    "        return self.gross_sales * self.commission_rate\n",
    "    \n",
    "    def __repr__(self):\n",
    "        \"\"\"Return string representation for repr().\"\"\"\n",
    "        return ('CommissionEmployee: ' +\n",
    "                f'{self.first_name} {self.last_name}\\n' +\n",
    "                f'social security number: {self.ssn}\\n' +\n",
    "                f'gross sales: {self.gross_sales:.2f}\\n' +\n",
    "                f'commission rate: {self.commission_rate:.2f}')"
   ]
  },
  {
   "cell_type": "code",
   "execution_count": 98,
   "id": "42e9fe20-fff3-4bdf-98a9-3d5f51f2df1b",
   "metadata": {},
   "outputs": [],
   "source": [
    "from commissionemployee import CommissionEmployee\n",
    "from decimal import Decimal\n",
    "c = CommissionEmployee('Sue', 'Jones', '333-33-3333', Decimal('10000.00'), Decimal('0.06'))"
   ]
  },
  {
   "cell_type": "code",
   "execution_count": 100,
   "id": "482247c6-2656-4ccf-b874-7e4d56037685",
   "metadata": {},
   "outputs": [
    {
     "data": {
      "text/plain": [
       "CommissionEmployee: Sue Jones\n",
       "social security number: 333-33-3333\n",
       "gross sales: 10000.00\n",
       "commission rate: 0.06"
      ]
     },
     "execution_count": 100,
     "metadata": {},
     "output_type": "execute_result"
    }
   ],
   "source": [
    "c"
   ]
  },
  {
   "cell_type": "code",
   "execution_count": 101,
   "id": "14458546-703c-44a0-80cd-6a4297b8687f",
   "metadata": {},
   "outputs": [
    {
     "name": "stdout",
     "output_type": "stream",
     "text": [
      "600.00\n"
     ]
    }
   ],
   "source": [
    "print(f'{c.earnings():,.2f}')"
   ]
  },
  {
   "cell_type": "code",
   "execution_count": 102,
   "id": "71d4b1c8-4bd2-41d6-b0fb-928405e8f41f",
   "metadata": {},
   "outputs": [
    {
     "name": "stdout",
     "output_type": "stream",
     "text": [
      "2,000.00\n"
     ]
    }
   ],
   "source": [
    "c.gross_sales = Decimal('20000.00')\n",
    "c.commission_rate = Decimal('0.1')\n",
    "print(f'{c.earnings():,.2f}')"
   ]
  },
  {
   "cell_type": "code",
   "execution_count": 104,
   "id": "4d7bb6fa-d120-4a51-a056-fa8a6a7f7f13",
   "metadata": {},
   "outputs": [],
   "source": [
    "# salariedcommissionemployee.py\n",
    "\"\"\"SalariedCommissionEmployee derived from CommissionEmployee.\"\"\"\n",
    "from commissionemployee import CommissionEmployee\n",
    "from decimal import Decimal\n",
    "\n",
    "class SalariedCommissionEmployee(CommissionEmployee):\n",
    "    \"\"\"An employee who gets paid a salary plus commission based on gross sales.\"\"\"\n",
    "    \n",
    "    def __init__(self, first_name, last_name, ssn, gross_sales, commission_rate, base_salary):\n",
    "        \"\"\"Initialize SalariedCommissionEmployee's attributes.\"\"\"\n",
    "        super().base_salary = base_salary # validate via property\n",
    "    \n",
    "    @property\n",
    "    def base_salary(self):\n",
    "        return self._base_salary\n",
    "    \n",
    "    @base_salary.setter\n",
    "    def base_salary(self, salary):\n",
    "        \"\"\"Set base salary or raise ValueError if invalid.\"\"\"\n",
    "        if salary < Decimal('0.00'):\n",
    "            raise ValueError('Base salary must be >= to 0')\n",
    "            \n",
    "        self._base_salary = salary\n",
    "        \n",
    "    def earnings(self):\n",
    "        \"\"\"Calculate earnings.\"\"\"\n",
    "        return super().earnings() + self.base_salary\n",
    "    \n",
    "    def __repr__(self):\n",
    "        \"\"\"Return string representation for repr().\"\"\"\n",
    "        return ('Salaried' + super().__repr__() + f'\\nbase salary: {self.base_salary:.2f}')"
   ]
  },
  {
   "cell_type": "code",
   "execution_count": 105,
   "id": "868b4888-0cd2-4732-a5f7-f05ea243d3f5",
   "metadata": {},
   "outputs": [
    {
     "name": "stdout",
     "output_type": "stream",
     "text": [
      "Bob Lewis 444-44-4444 5000.00 0.04 300.00\n"
     ]
    }
   ],
   "source": [
    "from salariedcommissionemployee import SalariedCommissionEmployee\n",
    "s = SalariedCommissionEmployee('Bob', 'Lewis', '444-44-4444', Decimal('5000.00'), Decimal('0.04'), Decimal('300.00'))\n",
    "\n",
    "print(s.first_name, s.last_name, s.ssn, s.gross_sales, s.commission_rate, s.base_salary)"
   ]
  },
  {
   "cell_type": "code",
   "execution_count": 106,
   "id": "e7758eff-037c-4e8e-8220-7ea5b4d76ddd",
   "metadata": {},
   "outputs": [
    {
     "name": "stdout",
     "output_type": "stream",
     "text": [
      "500.00\n"
     ]
    }
   ],
   "source": [
    "print(f'{s.earnings():,.2f}')"
   ]
  },
  {
   "cell_type": "code",
   "execution_count": 107,
   "id": "9b6f851c-6ad9-42f7-ab51-3fed63f7fdc5",
   "metadata": {},
   "outputs": [
    {
     "name": "stdout",
     "output_type": "stream",
     "text": [
      "SalariedCommissionEmployee: Bob Lewis\n",
      "social security number: 444-44-4444\n",
      "gross sales: 10000.00\n",
      "commission rate: 0.05\n",
      "base salary: 1000.00\n"
     ]
    }
   ],
   "source": [
    "s.gross_sales = Decimal('10000.00')\n",
    "s.commission_rate = Decimal('0.05')\n",
    "s.base_salary = Decimal('1000.00')\n",
    "print(s)"
   ]
  },
  {
   "cell_type": "code",
   "execution_count": 108,
   "id": "5b4aee13-f9fe-4a29-83d4-49566697b565",
   "metadata": {},
   "outputs": [
    {
     "name": "stdout",
     "output_type": "stream",
     "text": [
      "1,500.00\n"
     ]
    }
   ],
   "source": [
    "print(f'{s.earnings():,.2f}')"
   ]
  },
  {
   "cell_type": "code",
   "execution_count": 109,
   "id": "bbb17058-d46c-411c-ad19-62cb52d2361f",
   "metadata": {},
   "outputs": [
    {
     "data": {
      "text/plain": [
       "True"
      ]
     },
     "execution_count": 109,
     "metadata": {},
     "output_type": "execute_result"
    }
   ],
   "source": [
    "issubclass(SalariedCommissionEmployee, CommissionEmployee)"
   ]
  },
  {
   "cell_type": "code",
   "execution_count": 110,
   "id": "b30f7c64-623e-4ee9-a086-fb19a1f09700",
   "metadata": {},
   "outputs": [
    {
     "data": {
      "text/plain": [
       "True"
      ]
     },
     "execution_count": 110,
     "metadata": {},
     "output_type": "execute_result"
    }
   ],
   "source": [
    "isinstance(s, CommissionEmployee)"
   ]
  },
  {
   "cell_type": "code",
   "execution_count": 111,
   "id": "56b91f05-d0f7-4e39-bc26-708d4c1b5419",
   "metadata": {},
   "outputs": [
    {
     "data": {
      "text/plain": [
       "True"
      ]
     },
     "execution_count": 111,
     "metadata": {},
     "output_type": "execute_result"
    }
   ],
   "source": [
    "isinstance(s, SalariedCommissionEmployee)"
   ]
  },
  {
   "cell_type": "code",
   "execution_count": 112,
   "id": "913f85ad-3908-4554-a922-99824953c2d3",
   "metadata": {},
   "outputs": [
    {
     "name": "stdout",
     "output_type": "stream",
     "text": [
      "CommissionEmployee: Sue Jones\n",
      "social security number: 333-33-3333\n",
      "gross sales: 20000.00\n",
      "commission rate: 0.10\n",
      "2,000.00\n",
      "\n",
      "SalariedCommissionEmployee: Bob Lewis\n",
      "social security number: 444-44-4444\n",
      "gross sales: 10000.00\n",
      "commission rate: 0.05\n",
      "base salary: 1000.00\n",
      "1,500.00\n",
      "\n"
     ]
    }
   ],
   "source": [
    "employees = [c, s]\n",
    "for employee in employees:\n",
    "    print(employee)\n",
    "    print(f'{employee.earnings():,.2f}\\n')"
   ]
  },
  {
   "cell_type": "code",
   "execution_count": 113,
   "id": "bec843ec-a86c-4ce1-b43c-316050657f28",
   "metadata": {},
   "outputs": [],
   "source": [
    "class WellPaidDuck:\n",
    "    def __repr__(self):\n",
    "        return 'I am a well-paid duck'\n",
    "    def earnings(self):\n",
    "        return Decimal('1_000_000.00')"
   ]
  },
  {
   "cell_type": "code",
   "execution_count": 115,
   "id": "052512e2-a04a-43ff-8ba5-53f91bda9a9c",
   "metadata": {},
   "outputs": [],
   "source": [
    "from decimal import Decimal\n",
    "from commissionemployee import CommissionEmployee\n",
    "from salariedcommissionemployee import SalariedCommissionEmployee\n",
    "c = CommissionEmployee('Sue', 'Jones', '333-33-3333', Decimal('10000.00'), Decimal('0.06'))\n",
    "s = SalariedCommissionEmployee('Bob', 'Lewis', '444-44-4444', Decimal('5000.00'), Decimal('0.04'), Decimal('300.00'))"
   ]
  },
  {
   "cell_type": "code",
   "execution_count": 117,
   "id": "81bf3ecb-9d7c-4c7a-a128-d753bec66926",
   "metadata": {},
   "outputs": [],
   "source": [
    "d = WellPaidDuck()\n",
    "employees = [c, s, d]"
   ]
  },
  {
   "cell_type": "code",
   "execution_count": 118,
   "id": "88e48592-fb23-49a2-971d-bf800229e66a",
   "metadata": {},
   "outputs": [
    {
     "name": "stdout",
     "output_type": "stream",
     "text": [
      "CommissionEmployee: Sue Jones\n",
      "social security number: 333-33-3333\n",
      "gross sales: 10000.00\n",
      "commission rate: 0.06\n",
      "600.00\n",
      "\n",
      "SalariedCommissionEmployee: Bob Lewis\n",
      "social security number: 444-44-4444\n",
      "gross sales: 5000.00\n",
      "commission rate: 0.04\n",
      "base salary: 300.00\n",
      "500.00\n",
      "\n",
      "I am a well-paid duck\n",
      "1,000,000.00\n",
      "\n"
     ]
    }
   ],
   "source": [
    "for employee in employees:\n",
    "    print(employee)\n",
    "    print(f'{employee.earnings():,.2f}\\n')"
   ]
  },
  {
   "cell_type": "code",
   "execution_count": 119,
   "id": "7e1dd5ad-86c8-448b-a9c4-9305a37cfa59",
   "metadata": {},
   "outputs": [],
   "source": [
    "from complexnumber import Complex"
   ]
  },
  {
   "cell_type": "code",
   "execution_count": 121,
   "id": "63b60fda-b561-4256-a133-188ecb4e9c63",
   "metadata": {},
   "outputs": [],
   "source": [
    "x = Complex(real=2, imaginary=4)"
   ]
  },
  {
   "cell_type": "code",
   "execution_count": 122,
   "id": "6232cf47-c2a2-4d9e-9821-3a534b6a2875",
   "metadata": {},
   "outputs": [
    {
     "data": {
      "text/plain": [
       "(2 + 4i)"
      ]
     },
     "execution_count": 122,
     "metadata": {},
     "output_type": "execute_result"
    }
   ],
   "source": [
    "x"
   ]
  },
  {
   "cell_type": "code",
   "execution_count": 123,
   "id": "39787c5e-b0b1-45df-b59d-0a032cda6245",
   "metadata": {},
   "outputs": [],
   "source": [
    "y = Complex(real=5, imaginary=-1)"
   ]
  },
  {
   "cell_type": "code",
   "execution_count": 124,
   "id": "4f26fe05-68a4-4eed-b678-e165a5757c34",
   "metadata": {},
   "outputs": [
    {
     "data": {
      "text/plain": [
       "(5 - 1i)"
      ]
     },
     "execution_count": 124,
     "metadata": {},
     "output_type": "execute_result"
    }
   ],
   "source": [
    "y"
   ]
  },
  {
   "cell_type": "code",
   "execution_count": 125,
   "id": "e0c45d9e-8a47-475f-bb6e-c78fc22168df",
   "metadata": {},
   "outputs": [
    {
     "data": {
      "text/plain": [
       "(7 + 3i)"
      ]
     },
     "execution_count": 125,
     "metadata": {},
     "output_type": "execute_result"
    }
   ],
   "source": [
    "x + y"
   ]
  },
  {
   "cell_type": "code",
   "execution_count": 126,
   "id": "72118c8e-bc44-4736-b139-7bf2f5011946",
   "metadata": {},
   "outputs": [
    {
     "data": {
      "text/plain": [
       "(2 + 4i)"
      ]
     },
     "execution_count": 126,
     "metadata": {},
     "output_type": "execute_result"
    }
   ],
   "source": [
    "x"
   ]
  },
  {
   "cell_type": "code",
   "execution_count": 127,
   "id": "82c383b6-a749-4f4c-b816-2dff25930951",
   "metadata": {},
   "outputs": [
    {
     "data": {
      "text/plain": [
       "(5 - 1i)"
      ]
     },
     "execution_count": 127,
     "metadata": {},
     "output_type": "execute_result"
    }
   ],
   "source": [
    "y"
   ]
  },
  {
   "cell_type": "code",
   "execution_count": 128,
   "id": "abb0813c-e568-4353-9e9e-b0504dbb4161",
   "metadata": {},
   "outputs": [],
   "source": [
    "x += y"
   ]
  },
  {
   "cell_type": "code",
   "execution_count": 129,
   "id": "57105d74-cc95-4906-88ec-0338a5f40e31",
   "metadata": {},
   "outputs": [
    {
     "data": {
      "text/plain": [
       "(7 + 3i)"
      ]
     },
     "execution_count": 129,
     "metadata": {},
     "output_type": "execute_result"
    }
   ],
   "source": [
    "x"
   ]
  },
  {
   "cell_type": "code",
   "execution_count": 130,
   "id": "27384f07-1fa2-433d-be6a-d923b140cc33",
   "metadata": {},
   "outputs": [
    {
     "data": {
      "text/plain": [
       "(5 - 1i)"
      ]
     },
     "execution_count": 130,
     "metadata": {},
     "output_type": "execute_result"
    }
   ],
   "source": [
    "y"
   ]
  },
  {
   "cell_type": "code",
   "execution_count": 131,
   "id": "e37f316e-2511-48bb-9b4a-3c4e15e311d7",
   "metadata": {},
   "outputs": [],
   "source": [
    "# complexnumber.py\n",
    "\"\"\"Complex class with overload operators.\"\"\"\n",
    "\n",
    "class Complex:\n",
    "    \"\"\"Complex class that represents a complex number with real and imaginary parts.\"\"\"\n",
    "    \n",
    "    def __init__(self, real, imaginary):\n",
    "        \"\"\"Initialize Complex class's attributes.\"\"\"\n",
    "        self.real = real\n",
    "        self.imaginary = imaginary"
   ]
  },
  {
   "cell_type": "code",
   "execution_count": 132,
   "id": "f4f1ba77-b6b2-40f4-9cef-e1580720eedf",
   "metadata": {},
   "outputs": [],
   "source": [
    "def __add__(self, right):\n",
    "    \"\"\"Overides the + operator.\"\"\"\n",
    "    return Complex(self.real + right.real, self.imaginary + right.imaginary)"
   ]
  },
  {
   "cell_type": "code",
   "execution_count": 133,
   "id": "2851537b-fd8d-4dcf-aae3-ac3383e12dd0",
   "metadata": {},
   "outputs": [],
   "source": [
    "def __iadd__(self, right):\n",
    "    \"\"\"Overrides the += operator.\"\"\"\n",
    "    self.real += right.real\n",
    "    self.imaginary += right.imaginary\n",
    "    return self"
   ]
  },
  {
   "cell_type": "code",
   "execution_count": 134,
   "id": "798dcddc-efec-4d4a-8555-857cf234d895",
   "metadata": {},
   "outputs": [],
   "source": [
    "def __repr__(self):\n",
    "    \"\"\"Return string representation for repr().\"\"\"\n",
    "    return (f'({self.real} ' + ('+' if self.imaginary >= 0 else '-') + f' {abs(self.imaginary)}i)')"
   ]
  },
  {
   "cell_type": "code",
   "execution_count": 135,
   "id": "58264751-a689-46c2-89d6-2306ad632aa4",
   "metadata": {},
   "outputs": [],
   "source": [
    "def __sub__(self, right):\n",
    "    \"\"\"Overrides the - operator.\"\"\"\n",
    "    return Complex(self.real - right.real, self.imaginary - right.imaginary)"
   ]
  },
  {
   "cell_type": "code",
   "execution_count": 139,
   "id": "ae4a0a27-5d11-416a-a358-fd8eaf0a4450",
   "metadata": {},
   "outputs": [],
   "source": [
    "def __isub__(self, right):\n",
    "    \"\"\"Overrides the -= operator.\"\"\"\n",
    "    self.real -= right.real \n",
    "    self.imaginary -= right.imaginary\n",
    "    return self"
   ]
  },
  {
   "cell_type": "code",
   "execution_count": 140,
   "id": "fbeb7be7-7318-439b-bdb3-d7a4dc48a644",
   "metadata": {},
   "outputs": [],
   "source": [
    "from complexnumber2 import Complex"
   ]
  },
  {
   "cell_type": "code",
   "execution_count": 141,
   "id": "7ed3e273-d311-44c6-9b2a-b25306f1f0a3",
   "metadata": {},
   "outputs": [],
   "source": [
    "x = Complex(real=2, imaginary=4)\n",
    "y = Complex(real=5, imaginary=-1)"
   ]
  },
  {
   "cell_type": "code",
   "execution_count": 142,
   "id": "602a73f6-a78c-42d0-ae0c-c7d1989fa891",
   "metadata": {},
   "outputs": [
    {
     "data": {
      "text/plain": [
       "(-3 + 5i)"
      ]
     },
     "execution_count": 142,
     "metadata": {},
     "output_type": "execute_result"
    }
   ],
   "source": [
    "x-y"
   ]
  },
  {
   "cell_type": "code",
   "execution_count": 143,
   "id": "90677e6e-1a36-4d3c-8f8f-f5220725ce32",
   "metadata": {},
   "outputs": [],
   "source": [
    "x-=y"
   ]
  },
  {
   "cell_type": "code",
   "execution_count": 144,
   "id": "3141d532-9622-4c3c-925b-39cb06b60707",
   "metadata": {},
   "outputs": [
    {
     "data": {
      "text/plain": [
       "(-3 + 5i)"
      ]
     },
     "execution_count": 144,
     "metadata": {},
     "output_type": "execute_result"
    }
   ],
   "source": [
    "x"
   ]
  },
  {
   "cell_type": "code",
   "execution_count": 145,
   "id": "1cbb62f9-5f94-4194-b565-4416c6b6d10a",
   "metadata": {},
   "outputs": [
    {
     "data": {
      "text/plain": [
       "(5 - 1i)"
      ]
     },
     "execution_count": 145,
     "metadata": {},
     "output_type": "execute_result"
    }
   ],
   "source": [
    "y"
   ]
  },
  {
   "cell_type": "code",
   "execution_count": 153,
   "id": "9dc41bb5-b5cf-47b1-9fff-a6d134d26fcc",
   "metadata": {},
   "outputs": [],
   "source": [
    "from collections import namedtuple"
   ]
  },
  {
   "cell_type": "code",
   "execution_count": 154,
   "id": "d50b8d42-4a2c-4b91-94e4-b62b0543cce9",
   "metadata": {},
   "outputs": [],
   "source": [
    "Card = namedtuple('Card', ['face', 'suit'])"
   ]
  },
  {
   "cell_type": "code",
   "execution_count": 155,
   "id": "cd3a81b5-dc9a-4797-ba7c-cf2691505123",
   "metadata": {},
   "outputs": [],
   "source": [
    "card = Card(face='Ace', suit='Spades')"
   ]
  },
  {
   "cell_type": "code",
   "execution_count": 156,
   "id": "5701d1f6-5924-4a9f-8bee-3dfd071a9864",
   "metadata": {},
   "outputs": [
    {
     "data": {
      "text/plain": [
       "'Ace'"
      ]
     },
     "execution_count": 156,
     "metadata": {},
     "output_type": "execute_result"
    }
   ],
   "source": [
    "card.face"
   ]
  },
  {
   "cell_type": "code",
   "execution_count": 157,
   "id": "30841849-a3bb-487a-93c5-7bba475edecb",
   "metadata": {},
   "outputs": [
    {
     "data": {
      "text/plain": [
       "'Spades'"
      ]
     },
     "execution_count": 157,
     "metadata": {},
     "output_type": "execute_result"
    }
   ],
   "source": [
    "card.suit"
   ]
  },
  {
   "cell_type": "code",
   "execution_count": 158,
   "id": "953701e8-fa56-404c-9784-11976c487511",
   "metadata": {},
   "outputs": [
    {
     "data": {
      "text/plain": [
       "Card(face='Ace', suit='Spades')"
      ]
     },
     "execution_count": 158,
     "metadata": {},
     "output_type": "execute_result"
    }
   ],
   "source": [
    "card"
   ]
  },
  {
   "cell_type": "code",
   "execution_count": 159,
   "id": "0c4c8e67-d8b1-4927-a34b-c1fd0f2dc944",
   "metadata": {},
   "outputs": [],
   "source": [
    "values = ['Queen', 'Hearts']"
   ]
  },
  {
   "cell_type": "code",
   "execution_count": 160,
   "id": "e14204e8-45bf-4fa5-8faa-7cf862e2fb18",
   "metadata": {},
   "outputs": [],
   "source": [
    "card = Card._make(values)"
   ]
  },
  {
   "cell_type": "code",
   "execution_count": 161,
   "id": "d1a02074-ed46-44dd-8540-8ab6359bd52a",
   "metadata": {},
   "outputs": [
    {
     "data": {
      "text/plain": [
       "Card(face='Queen', suit='Hearts')"
      ]
     },
     "execution_count": 161,
     "metadata": {},
     "output_type": "execute_result"
    }
   ],
   "source": [
    "card"
   ]
  },
  {
   "cell_type": "code",
   "execution_count": 162,
   "id": "e8d1e805-f74b-446d-856a-6f22456f74e8",
   "metadata": {},
   "outputs": [
    {
     "data": {
      "text/plain": [
       "{'face': 'Queen', 'suit': 'Hearts'}"
      ]
     },
     "execution_count": 162,
     "metadata": {},
     "output_type": "execute_result"
    }
   ],
   "source": [
    "card._asdict()"
   ]
  },
  {
   "cell_type": "code",
   "execution_count": 163,
   "id": "3df22923-0b22-42b7-ac2c-7cd5386bb9be",
   "metadata": {},
   "outputs": [],
   "source": [
    "from collections import namedtuple"
   ]
  },
  {
   "cell_type": "code",
   "execution_count": 164,
   "id": "de1957de-ae20-499e-9e88-9bf06430bda9",
   "metadata": {},
   "outputs": [],
   "source": [
    "Time = namedtuple('Time', ['hour', 'minute', 'second'])\n",
    "t = Time(13, 30, 45)"
   ]
  },
  {
   "cell_type": "code",
   "execution_count": 165,
   "id": "c7ebb330-9624-4612-af98-524f40f243ea",
   "metadata": {},
   "outputs": [
    {
     "name": "stdout",
     "output_type": "stream",
     "text": [
      "13 30 45\n"
     ]
    }
   ],
   "source": [
    "print(t.hour, t.minute, t.second)"
   ]
  },
  {
   "cell_type": "code",
   "execution_count": 166,
   "id": "937cb477-5487-486f-8053-6f356186083e",
   "metadata": {},
   "outputs": [
    {
     "data": {
      "text/plain": [
       "Time(hour=13, minute=30, second=45)"
      ]
     },
     "execution_count": 166,
     "metadata": {},
     "output_type": "execute_result"
    }
   ],
   "source": [
    "t"
   ]
  },
  {
   "cell_type": "code",
   "execution_count": 168,
   "id": "4d9100d3-de00-4690-ab8c-41a739aeb3ea",
   "metadata": {},
   "outputs": [],
   "source": [
    "# carddataclass.py\n",
    "\"\"\"Card data class with class attributes, data attributes, autogenerated methods and explicitly defined methods.\"\"\"\n",
    "from dataclasses import dataclass\n",
    "from typing import ClassVar, List\n",
    "\n",
    "@dataclass\n",
    "class Card:\n",
    "    FACES: ClassVar[List[str]] = ['Ace', '2', '3', '4', '5', '6', '7', '8', '9', '10', 'Jack', 'Queen', 'King']\n",
    "    SUITS: ClassVar[List[str]] = ['Hearts', 'Diamonds', 'Clubs', 'Spades']"
   ]
  },
  {
   "cell_type": "code",
   "execution_count": 169,
   "id": "9e39105d-7e0f-42b1-afea-2c10111adbab",
   "metadata": {},
   "outputs": [],
   "source": [
    "from dataclasses import dataclass"
   ]
  },
  {
   "cell_type": "code",
   "execution_count": 170,
   "id": "89266aff-1bd4-405e-a448-44040bffd9d7",
   "metadata": {},
   "outputs": [],
   "source": [
    "@dataclass\n",
    "class Demo:\n",
    "    x # attempting to create a data attribute x"
   ]
  },
  {
   "cell_type": "code",
   "execution_count": 171,
   "id": "fa88dc13-e5d8-4d79-9ac6-6d75f1d21b71",
   "metadata": {},
   "outputs": [],
   "source": [
    "face: str\n",
    "suit: str"
   ]
  },
  {
   "cell_type": "code",
   "execution_count": 172,
   "id": "f6fd00fd-fc1c-4749-a55d-4acc5e4106e4",
   "metadata": {},
   "outputs": [],
   "source": [
    "@property\n",
    "def image_name(self):\n",
    "    \"\"\"Return the Card's image file name.\"\"\"\n",
    "    return str(self).replace(' ','_') + ' .png'\n",
    "\n",
    "def __str__(self):\n",
    "    \"\"\"Return string representation for str().\"\"\"\n",
    "    return f'{self.face} of {self.suit}'\n",
    "\n",
    "def __format__(self, format):\n",
    "    \"\"\"Return formatted string representation.\"\"\"\n",
    "    return f'{str(self):{format}}'"
   ]
  },
  {
   "cell_type": "code",
   "execution_count": 173,
   "id": "2ddfd6a8-f715-46b2-92e3-aa4088cc9214",
   "metadata": {},
   "outputs": [],
   "source": [
    "from carddataclass import Card"
   ]
  },
  {
   "cell_type": "code",
   "execution_count": 174,
   "id": "8861084c-3df0-4e9a-8b43-f67c574962ce",
   "metadata": {},
   "outputs": [],
   "source": [
    "c1 = Card(Card.FACES[0], Card.SUITS[3])"
   ]
  },
  {
   "cell_type": "code",
   "execution_count": 175,
   "id": "e2e9aa27-413b-418a-8a84-e10737ecc268",
   "metadata": {},
   "outputs": [
    {
     "data": {
      "text/plain": [
       "Card(face='Ace', suit='Spades')"
      ]
     },
     "execution_count": 175,
     "metadata": {},
     "output_type": "execute_result"
    }
   ],
   "source": [
    "c1"
   ]
  },
  {
   "cell_type": "code",
   "execution_count": 176,
   "id": "7991b142-10c5-483b-a7c6-97095e8ef7f0",
   "metadata": {},
   "outputs": [
    {
     "name": "stdout",
     "output_type": "stream",
     "text": [
      "Ace of Spades\n"
     ]
    }
   ],
   "source": [
    "print(c1)"
   ]
  },
  {
   "cell_type": "code",
   "execution_count": 177,
   "id": "a08b579c-bdda-4844-b49f-cb8c9163083f",
   "metadata": {},
   "outputs": [
    {
     "data": {
      "text/plain": [
       "'Ace'"
      ]
     },
     "execution_count": 177,
     "metadata": {},
     "output_type": "execute_result"
    }
   ],
   "source": [
    "c1.face"
   ]
  },
  {
   "cell_type": "code",
   "execution_count": 178,
   "id": "fd735c11-e0f9-41bb-a7cc-94df68834735",
   "metadata": {},
   "outputs": [
    {
     "data": {
      "text/plain": [
       "'Spades'"
      ]
     },
     "execution_count": 178,
     "metadata": {},
     "output_type": "execute_result"
    }
   ],
   "source": [
    "c1.suit"
   ]
  },
  {
   "cell_type": "code",
   "execution_count": 179,
   "id": "6789b15c-95dc-4dd7-9ad3-a71999160b1f",
   "metadata": {},
   "outputs": [
    {
     "data": {
      "text/plain": [
       "'Ace_of_Spades.png'"
      ]
     },
     "execution_count": 179,
     "metadata": {},
     "output_type": "execute_result"
    }
   ],
   "source": [
    "c1.image_name"
   ]
  },
  {
   "cell_type": "code",
   "execution_count": 180,
   "id": "78fe7b01-ef1d-481d-a49a-417708529107",
   "metadata": {},
   "outputs": [],
   "source": [
    "c2 = Card(Card.FACES[0], Card.SUITS[3])"
   ]
  },
  {
   "cell_type": "code",
   "execution_count": 181,
   "id": "3a20546e-d7cb-4829-a8c4-9a5e7300dd9b",
   "metadata": {},
   "outputs": [
    {
     "data": {
      "text/plain": [
       "Card(face='Ace', suit='Spades')"
      ]
     },
     "execution_count": 181,
     "metadata": {},
     "output_type": "execute_result"
    }
   ],
   "source": [
    "c2"
   ]
  },
  {
   "cell_type": "code",
   "execution_count": 182,
   "id": "fc4af276-61c6-488f-b285-112674ca67ca",
   "metadata": {},
   "outputs": [],
   "source": [
    "c3 = Card(Card.FACES[0], Card.SUITS[0])"
   ]
  },
  {
   "cell_type": "code",
   "execution_count": 183,
   "id": "458749b0-4b1c-4fba-83b1-c9b05fff9f0f",
   "metadata": {},
   "outputs": [
    {
     "data": {
      "text/plain": [
       "Card(face='Ace', suit='Hearts')"
      ]
     },
     "execution_count": 183,
     "metadata": {},
     "output_type": "execute_result"
    }
   ],
   "source": [
    "c3"
   ]
  },
  {
   "cell_type": "code",
   "execution_count": 184,
   "id": "d0b3fe33-56ca-45ca-b722-2d5e17b224e8",
   "metadata": {},
   "outputs": [
    {
     "data": {
      "text/plain": [
       "True"
      ]
     },
     "execution_count": 184,
     "metadata": {},
     "output_type": "execute_result"
    }
   ],
   "source": [
    "c1 == c2"
   ]
  },
  {
   "cell_type": "code",
   "execution_count": 185,
   "id": "e79bd194-2038-407a-8608-b41feddfe5db",
   "metadata": {},
   "outputs": [
    {
     "data": {
      "text/plain": [
       "False"
      ]
     },
     "execution_count": 185,
     "metadata": {},
     "output_type": "execute_result"
    }
   ],
   "source": [
    "c1 == c3"
   ]
  },
  {
   "cell_type": "code",
   "execution_count": 186,
   "id": "c1225e17-a7f9-47d5-a5e4-8a778017a255",
   "metadata": {},
   "outputs": [
    {
     "data": {
      "text/plain": [
       "True"
      ]
     },
     "execution_count": 186,
     "metadata": {},
     "output_type": "execute_result"
    }
   ],
   "source": [
    "c1 != c3"
   ]
  },
  {
   "cell_type": "code",
   "execution_count": 187,
   "id": "f44edf64-f582-47e3-94cd-d6ded395ac90",
   "metadata": {},
   "outputs": [],
   "source": [
    "from deck2 import DeckOfCards # uses Card data class\n",
    "deck_of_cards = DeckOfCards()"
   ]
  },
  {
   "cell_type": "code",
   "execution_count": 188,
   "id": "3390040e-a37e-49a0-b1f6-cdb417fd389f",
   "metadata": {},
   "outputs": [
    {
     "name": "stdout",
     "output_type": "stream",
     "text": [
      "Ace of Hearts      2 of Hearts        3 of Hearts        4 of Hearts        \n",
      "5 of Hearts        6 of Hearts        7 of Hearts        8 of Hearts        \n",
      "9 of Hearts        10 of Hearts       Jack of Hearts     Queen of Hearts    \n",
      "King of Hearts     Ace of Diamonds    2 of Diamonds      3 of Diamonds      \n",
      "4 of Diamonds      5 of Diamonds      6 of Diamonds      7 of Diamonds      \n",
      "8 of Diamonds      9 of Diamonds      10 of Diamonds     Jack of Diamonds   \n",
      "Queen of Diamonds  King of Diamonds   Ace of Clubs       2 of Clubs         \n",
      "3 of Clubs         4 of Clubs         5 of Clubs         6 of Clubs         \n",
      "7 of Clubs         8 of Clubs         9 of Clubs         10 of Clubs        \n",
      "Jack of Clubs      Queen of Clubs     King of Clubs      Ace of Spades      \n",
      "2 of Spades        3 of Spades        4 of Spades        5 of Spades        \n",
      "6 of Spades        7 of Spades        8 of Spades        9 of Spades        \n",
      "10 of Spades       Jack of Spades     Queen of Spades    King of Spades     \n",
      "\n"
     ]
    }
   ],
   "source": [
    "print(deck_of_cards)"
   ]
  },
  {
   "cell_type": "code",
   "execution_count": 189,
   "id": "22750bc0-eb9e-446e-877f-743f817f20ff",
   "metadata": {},
   "outputs": [],
   "source": [
    "from carddataclass import Card"
   ]
  },
  {
   "cell_type": "code",
   "execution_count": 190,
   "id": "99967612-0a3d-4d33-b964-ccd6662b0a2a",
   "metadata": {},
   "outputs": [],
   "source": [
    "c = Card('Ace', 'Spades')"
   ]
  },
  {
   "cell_type": "code",
   "execution_count": 191,
   "id": "dc4d4f27-c0c4-4d63-96c0-344b51bc9357",
   "metadata": {},
   "outputs": [
    {
     "data": {
      "text/plain": [
       "Card(face='Ace', suit='Spades')"
      ]
     },
     "execution_count": 191,
     "metadata": {},
     "output_type": "execute_result"
    }
   ],
   "source": [
    "c"
   ]
  },
  {
   "cell_type": "code",
   "execution_count": 192,
   "id": "5ad8e597-2e7c-402a-8743-ffd63d33f333",
   "metadata": {},
   "outputs": [
    {
     "data": {
      "text/plain": [
       "str"
      ]
     },
     "execution_count": 192,
     "metadata": {},
     "output_type": "execute_result"
    }
   ],
   "source": [
    "type(c.face)"
   ]
  },
  {
   "cell_type": "code",
   "execution_count": 193,
   "id": "6aa96cf4-665f-4dd1-8e23-0bf20ac923a1",
   "metadata": {},
   "outputs": [],
   "source": [
    "c.face = 100"
   ]
  },
  {
   "cell_type": "code",
   "execution_count": 194,
   "id": "1cd8b04a-bf03-499f-b1f7-d979234abe41",
   "metadata": {},
   "outputs": [
    {
     "data": {
      "text/plain": [
       "Card(face=100, suit='Spades')"
      ]
     },
     "execution_count": 194,
     "metadata": {},
     "output_type": "execute_result"
    }
   ],
   "source": [
    "c"
   ]
  },
  {
   "cell_type": "code",
   "execution_count": 195,
   "id": "5377616e-a522-4da6-94a2-a8f680269002",
   "metadata": {},
   "outputs": [
    {
     "data": {
      "text/plain": [
       "int"
      ]
     },
     "execution_count": 195,
     "metadata": {},
     "output_type": "execute_result"
    }
   ],
   "source": [
    "type(c.face)"
   ]
  },
  {
   "cell_type": "code",
   "execution_count": 196,
   "id": "91350ec6-25e3-4b23-9428-290cff27ccdf",
   "metadata": {},
   "outputs": [
    {
     "name": "stdout",
     "output_type": "stream",
     "text": [
      "Trying:\n",
      "    account1 = Account('John Green', Decimal('50.00'))\n",
      "Expecting nothing\n",
      "ok\n",
      "Trying:\n",
      "    account1.name\n",
      "Expecting:\n",
      "    'John Green'\n",
      "ok\n",
      "Trying:\n",
      "    account1.balance\n",
      "Expecting:\n",
      "    Decimal('50.00')\n",
      "ok\n",
      "Trying:\n",
      "    account2 = Account('John Green', Decimal('-50.00'))\n",
      "Expecting:\n",
      "    Traceback (most recent call last):\n",
      "        ...\n",
      "    ValueError: Initial balance must be >= to 0.00.\n",
      "ok\n",
      "28 items had no tests:\n",
      "    __main__\n",
      "    __main__.Account\n",
      "    __main__.Account.deposit\n",
      "    __main__.DeckofCards\n",
      "    __main__.DeckofCards.__init__\n",
      "    __main__.Demo\n",
      "    __main__.Demo.__eq__\n",
      "    __main__.Demo.__init__\n",
      "    __main__.Demo.__repr__\n",
      "    __main__.Time\n",
      "    __main__.WellPaidDuck\n",
      "    __main__.WellPaidDuck.__repr__\n",
      "    __main__.WellPaidDuck.earnings\n",
      "    __main__.__add__\n",
      "    __main__.__format__\n",
      "    __main__.__iadd__\n",
      "    __main__.__init__\n",
      "    __main__.__isub__\n",
      "    __main__.__repr__\n",
      "    __main__.__str__\n",
      "    __main__.__sub__\n",
      "    __main__._repr_\n",
      "    __main__._str_\n",
      "    __main__.deal_card\n",
      "    __main__.deposit\n",
      "    __main__.set_time\n",
      "    __main__.shuffle\n",
      "    __main__.withdraw\n",
      "1 items passed all tests:\n",
      "   4 tests in __main__.Account.__init__\n",
      "4 tests in 29 items.\n",
      "4 passed and 0 failed.\n",
      "Test passed.\n"
     ]
    }
   ],
   "source": [
    "# accountdoctest.py\n",
    "\"\"\"Account class definition.\"\"\"\n",
    "from decimal import Decimal\n",
    "\n",
    "class Account:\n",
    "    \"\"\"Account class for demonstrating doctest.\"\"\"\n",
    "    \n",
    "    def __init__(self, name, balance):\n",
    "        \"\"\"Initialize an Account object.\n",
    "        \n",
    "        >>> account1 = Account('John Green', Decimal('50.00'))\n",
    "        >>> account1.name\n",
    "        'John Green'\n",
    "        >>> account1.balance\n",
    "        Decimal('50.00')\n",
    "        \n",
    "        The balance argument must be greater than or equal to 0.\n",
    "        >>> account2 = Account('John Green', Decimal('-50.00'))\n",
    "        Traceback (most recent call last):\n",
    "            ...\n",
    "        ValueError: Initial balance must be >= to 0.00.\n",
    "        \"\"\"\n",
    "        \n",
    "        # if balance is less than 0.00, raise an exception\n",
    "        if balance < Decimal('0.00'):\n",
    "            raise ValueError('Initial balance must be >= to 0.00.')\n",
    "        \n",
    "        self.name = name\n",
    "        self.balance = balance\n",
    "    def deposit(self, amount):\n",
    "        \"\"\"Deposit money to the account.\"\"\"\n",
    "        \n",
    "        # if amount is less than 0.00, raise an exception\n",
    "        if amount < Decimal('0.00'):\n",
    "            raise ValueError('amount must be positive.')\n",
    "        \n",
    "        self.balance += amount\n",
    "        \n",
    "if __name__ == '__main__':\n",
    "    import doctest\n",
    "    doctest.testmod(verbose=True)"
   ]
  },
  {
   "cell_type": "code",
   "execution_count": 197,
   "id": "2ded9dbd-eca5-4f89-b3af-ba226a45f3f2",
   "metadata": {},
   "outputs": [
    {
     "data": {
      "text/plain": [
       "\"Deposit money to the account.\\n\\n>>> account1 = Account('John Green', Decimal('50.00'))\\n>>> account1.deposit(Decimal('10.55'))\\n>>> account1.balance\\nDecimal('60.55')\\n\\n>>> account1.deposit(Decimal('-100.00'))\\nTraceback (most recent call last):\\n    ...\\nValueError: amount must be positive.\\n\""
      ]
     },
     "execution_count": 197,
     "metadata": {},
     "output_type": "execute_result"
    }
   ],
   "source": [
    "\"\"\"Deposit money to the account.\n",
    "\n",
    ">>> account1 = Account('John Green', Decimal('50.00'))\n",
    ">>> account1.deposit(Decimal('10.55'))\n",
    ">>> account1.balance\n",
    "Decimal('60.55')\n",
    "\n",
    ">>> account1.deposit(Decimal('-100.00'))\n",
    "Traceback (most recent call last):\n",
    "    ...\n",
    "ValueError: amount must be positive.\n",
    "\"\"\""
   ]
  },
  {
   "cell_type": "code",
   "execution_count": 198,
   "id": "563c8872-7bdf-4def-96c4-273d98828478",
   "metadata": {},
   "outputs": [],
   "source": [
    "z = 'global Z'"
   ]
  },
  {
   "cell_type": "code",
   "execution_count": 199,
   "id": "988b930a-0e7c-4282-89c0-d1b15a39cb75",
   "metadata": {},
   "outputs": [],
   "source": [
    "def print_variables():\n",
    "    y = 'local y in print_variables'\n",
    "    print(y)\n",
    "    print(z)"
   ]
  },
  {
   "cell_type": "code",
   "execution_count": 200,
   "id": "00eba480-b450-44b1-b517-8a53df753eed",
   "metadata": {},
   "outputs": [
    {
     "name": "stdout",
     "output_type": "stream",
     "text": [
      "local y in print_variables\n",
      "global Z\n"
     ]
    }
   ],
   "source": [
    "print_variables()"
   ]
  },
  {
   "cell_type": "code",
   "execution_count": 201,
   "id": "13fa5049-d440-41f4-b2f9-8459699ad3db",
   "metadata": {},
   "outputs": [
    {
     "data": {
      "text/plain": [
       "(5 - 1i)"
      ]
     },
     "execution_count": 201,
     "metadata": {},
     "output_type": "execute_result"
    }
   ],
   "source": [
    "y"
   ]
  },
  {
   "cell_type": "code",
   "execution_count": 202,
   "id": "17b2efe2-cb05-47ab-ba8a-51fe609be4d2",
   "metadata": {},
   "outputs": [
    {
     "data": {
      "text/plain": [
       "'global Z'"
      ]
     },
     "execution_count": 202,
     "metadata": {},
     "output_type": "execute_result"
    }
   ],
   "source": [
    "z"
   ]
  },
  {
   "cell_type": "code",
   "execution_count": 203,
   "id": "39434ddb-d855-47f9-bece-ce628a0a3b16",
   "metadata": {},
   "outputs": [],
   "source": [
    "c = lambda f: 5 / 9 * (f-32)\n",
    "temps = [(f, c(f)) for f in range(0, 101, 10)]"
   ]
  },
  {
   "cell_type": "code",
   "execution_count": 206,
   "id": "7315bc61-8d7e-47e3-8a3e-0d73f427ae97",
   "metadata": {},
   "outputs": [],
   "source": [
    "import pandas as pd"
   ]
  },
  {
   "cell_type": "code",
   "execution_count": 207,
   "id": "25f904b1-192f-4dcf-98f7-6c6cf42389e5",
   "metadata": {},
   "outputs": [],
   "source": [
    "temps_df = pd.DataFrame(temps, columns=['Fahrenheit', 'Celcius'])"
   ]
  },
  {
   "cell_type": "code",
   "execution_count": 209,
   "id": "ed3179dd-4f99-42d1-849c-61b3048752fb",
   "metadata": {},
   "outputs": [],
   "source": [
    "axes = temps_df.plot(x='Fahrenheit', y='Celcius', style='.-')"
   ]
  },
  {
   "cell_type": "code",
   "execution_count": 210,
   "id": "9e5a1020-bb91-4309-895f-0517ac920292",
   "metadata": {},
   "outputs": [],
   "source": [
    "y_label = axes.set_ylabel('Celcius')"
   ]
  },
  {
   "cell_type": "code",
   "execution_count": 211,
   "id": "fdb23745-114b-43c9-a6e9-d0578a3e98e2",
   "metadata": {},
   "outputs": [],
   "source": [
    "nyc = pd.read_csv('ave_hi_nyc_jan_1895-2018.csv')"
   ]
  },
  {
   "cell_type": "code",
   "execution_count": 212,
   "id": "2551879e-2c44-44c8-b07c-13ae951888fe",
   "metadata": {},
   "outputs": [
    {
     "data": {
      "text/html": [
       "<div>\n",
       "<style scoped>\n",
       "    .dataframe tbody tr th:only-of-type {\n",
       "        vertical-align: middle;\n",
       "    }\n",
       "\n",
       "    .dataframe tbody tr th {\n",
       "        vertical-align: top;\n",
       "    }\n",
       "\n",
       "    .dataframe thead th {\n",
       "        text-align: right;\n",
       "    }\n",
       "</style>\n",
       "<table border=\"1\" class=\"dataframe\">\n",
       "  <thead>\n",
       "    <tr style=\"text-align: right;\">\n",
       "      <th></th>\n",
       "      <th>Date</th>\n",
       "      <th>Value</th>\n",
       "      <th>Anomaly</th>\n",
       "    </tr>\n",
       "  </thead>\n",
       "  <tbody>\n",
       "    <tr>\n",
       "      <th>0</th>\n",
       "      <td>189501</td>\n",
       "      <td>34.2</td>\n",
       "      <td>-3.2</td>\n",
       "    </tr>\n",
       "    <tr>\n",
       "      <th>1</th>\n",
       "      <td>189601</td>\n",
       "      <td>34.7</td>\n",
       "      <td>-2.7</td>\n",
       "    </tr>\n",
       "    <tr>\n",
       "      <th>2</th>\n",
       "      <td>189701</td>\n",
       "      <td>35.5</td>\n",
       "      <td>-1.9</td>\n",
       "    </tr>\n",
       "    <tr>\n",
       "      <th>3</th>\n",
       "      <td>189801</td>\n",
       "      <td>39.6</td>\n",
       "      <td>2.2</td>\n",
       "    </tr>\n",
       "    <tr>\n",
       "      <th>4</th>\n",
       "      <td>189901</td>\n",
       "      <td>36.4</td>\n",
       "      <td>-1.0</td>\n",
       "    </tr>\n",
       "  </tbody>\n",
       "</table>\n",
       "</div>"
      ],
      "text/plain": [
       "     Date  Value  Anomaly\n",
       "0  189501   34.2     -3.2\n",
       "1  189601   34.7     -2.7\n",
       "2  189701   35.5     -1.9\n",
       "3  189801   39.6      2.2\n",
       "4  189901   36.4     -1.0"
      ]
     },
     "execution_count": 212,
     "metadata": {},
     "output_type": "execute_result"
    }
   ],
   "source": [
    "nyc.head()"
   ]
  },
  {
   "cell_type": "code",
   "execution_count": 213,
   "id": "bce6ca69-e03d-46d2-bd41-566e022d0c64",
   "metadata": {},
   "outputs": [
    {
     "data": {
      "text/html": [
       "<div>\n",
       "<style scoped>\n",
       "    .dataframe tbody tr th:only-of-type {\n",
       "        vertical-align: middle;\n",
       "    }\n",
       "\n",
       "    .dataframe tbody tr th {\n",
       "        vertical-align: top;\n",
       "    }\n",
       "\n",
       "    .dataframe thead th {\n",
       "        text-align: right;\n",
       "    }\n",
       "</style>\n",
       "<table border=\"1\" class=\"dataframe\">\n",
       "  <thead>\n",
       "    <tr style=\"text-align: right;\">\n",
       "      <th></th>\n",
       "      <th>Date</th>\n",
       "      <th>Value</th>\n",
       "      <th>Anomaly</th>\n",
       "    </tr>\n",
       "  </thead>\n",
       "  <tbody>\n",
       "    <tr>\n",
       "      <th>119</th>\n",
       "      <td>201401</td>\n",
       "      <td>35.5</td>\n",
       "      <td>-1.9</td>\n",
       "    </tr>\n",
       "    <tr>\n",
       "      <th>120</th>\n",
       "      <td>201501</td>\n",
       "      <td>36.1</td>\n",
       "      <td>-1.3</td>\n",
       "    </tr>\n",
       "    <tr>\n",
       "      <th>121</th>\n",
       "      <td>201601</td>\n",
       "      <td>40.8</td>\n",
       "      <td>3.4</td>\n",
       "    </tr>\n",
       "    <tr>\n",
       "      <th>122</th>\n",
       "      <td>201701</td>\n",
       "      <td>42.8</td>\n",
       "      <td>5.4</td>\n",
       "    </tr>\n",
       "    <tr>\n",
       "      <th>123</th>\n",
       "      <td>201801</td>\n",
       "      <td>38.7</td>\n",
       "      <td>1.3</td>\n",
       "    </tr>\n",
       "  </tbody>\n",
       "</table>\n",
       "</div>"
      ],
      "text/plain": [
       "       Date  Value  Anomaly\n",
       "119  201401   35.5     -1.9\n",
       "120  201501   36.1     -1.3\n",
       "121  201601   40.8      3.4\n",
       "122  201701   42.8      5.4\n",
       "123  201801   38.7      1.3"
      ]
     },
     "execution_count": 213,
     "metadata": {},
     "output_type": "execute_result"
    }
   ],
   "source": [
    "nyc.tail()"
   ]
  },
  {
   "cell_type": "code",
   "execution_count": 214,
   "id": "fe075ae2-d958-4531-8ad4-9534a60d9a4d",
   "metadata": {},
   "outputs": [],
   "source": [
    "nyc.columns = ['Date', 'Temperature', 'Anomaly']"
   ]
  },
  {
   "cell_type": "code",
   "execution_count": 215,
   "id": "0754d927-b101-4703-b9a7-3585e394a07d",
   "metadata": {},
   "outputs": [
    {
     "data": {
      "text/html": [
       "<div>\n",
       "<style scoped>\n",
       "    .dataframe tbody tr th:only-of-type {\n",
       "        vertical-align: middle;\n",
       "    }\n",
       "\n",
       "    .dataframe tbody tr th {\n",
       "        vertical-align: top;\n",
       "    }\n",
       "\n",
       "    .dataframe thead th {\n",
       "        text-align: right;\n",
       "    }\n",
       "</style>\n",
       "<table border=\"1\" class=\"dataframe\">\n",
       "  <thead>\n",
       "    <tr style=\"text-align: right;\">\n",
       "      <th></th>\n",
       "      <th>Date</th>\n",
       "      <th>Temperature</th>\n",
       "      <th>Anomaly</th>\n",
       "    </tr>\n",
       "  </thead>\n",
       "  <tbody>\n",
       "    <tr>\n",
       "      <th>0</th>\n",
       "      <td>189501</td>\n",
       "      <td>34.2</td>\n",
       "      <td>-3.2</td>\n",
       "    </tr>\n",
       "    <tr>\n",
       "      <th>1</th>\n",
       "      <td>189601</td>\n",
       "      <td>34.7</td>\n",
       "      <td>-2.7</td>\n",
       "    </tr>\n",
       "    <tr>\n",
       "      <th>2</th>\n",
       "      <td>189701</td>\n",
       "      <td>35.5</td>\n",
       "      <td>-1.9</td>\n",
       "    </tr>\n",
       "  </tbody>\n",
       "</table>\n",
       "</div>"
      ],
      "text/plain": [
       "     Date  Temperature  Anomaly\n",
       "0  189501         34.2     -3.2\n",
       "1  189601         34.7     -2.7\n",
       "2  189701         35.5     -1.9"
      ]
     },
     "execution_count": 215,
     "metadata": {},
     "output_type": "execute_result"
    }
   ],
   "source": [
    "nyc.head(3)"
   ]
  },
  {
   "cell_type": "code",
   "execution_count": 216,
   "id": "ef4a6f6d-8970-49b1-ae28-ecef1a69353d",
   "metadata": {},
   "outputs": [
    {
     "data": {
      "text/plain": [
       "dtype('int64')"
      ]
     },
     "execution_count": 216,
     "metadata": {},
     "output_type": "execute_result"
    }
   ],
   "source": [
    "nyc.Date.dtype"
   ]
  },
  {
   "cell_type": "code",
   "execution_count": 217,
   "id": "7ef70c8a-0403-444b-8d09-2f9824a793a5",
   "metadata": {},
   "outputs": [],
   "source": [
    "nyc.Date = nyc.Date.floordiv(100)"
   ]
  },
  {
   "cell_type": "code",
   "execution_count": 218,
   "id": "1bf75498-478a-4e2b-8dfa-dbcd16ba544c",
   "metadata": {},
   "outputs": [
    {
     "data": {
      "text/html": [
       "<div>\n",
       "<style scoped>\n",
       "    .dataframe tbody tr th:only-of-type {\n",
       "        vertical-align: middle;\n",
       "    }\n",
       "\n",
       "    .dataframe tbody tr th {\n",
       "        vertical-align: top;\n",
       "    }\n",
       "\n",
       "    .dataframe thead th {\n",
       "        text-align: right;\n",
       "    }\n",
       "</style>\n",
       "<table border=\"1\" class=\"dataframe\">\n",
       "  <thead>\n",
       "    <tr style=\"text-align: right;\">\n",
       "      <th></th>\n",
       "      <th>Date</th>\n",
       "      <th>Temperature</th>\n",
       "      <th>Anomaly</th>\n",
       "    </tr>\n",
       "  </thead>\n",
       "  <tbody>\n",
       "    <tr>\n",
       "      <th>0</th>\n",
       "      <td>1895</td>\n",
       "      <td>34.2</td>\n",
       "      <td>-3.2</td>\n",
       "    </tr>\n",
       "    <tr>\n",
       "      <th>1</th>\n",
       "      <td>1896</td>\n",
       "      <td>34.7</td>\n",
       "      <td>-2.7</td>\n",
       "    </tr>\n",
       "    <tr>\n",
       "      <th>2</th>\n",
       "      <td>1897</td>\n",
       "      <td>35.5</td>\n",
       "      <td>-1.9</td>\n",
       "    </tr>\n",
       "  </tbody>\n",
       "</table>\n",
       "</div>"
      ],
      "text/plain": [
       "   Date  Temperature  Anomaly\n",
       "0  1895         34.2     -3.2\n",
       "1  1896         34.7     -2.7\n",
       "2  1897         35.5     -1.9"
      ]
     },
     "execution_count": 218,
     "metadata": {},
     "output_type": "execute_result"
    }
   ],
   "source": [
    "nyc.head(3)"
   ]
  },
  {
   "cell_type": "code",
   "execution_count": 223,
   "id": "59ad521e-f5e3-44f6-91f4-6640e910e60b",
   "metadata": {},
   "outputs": [
    {
     "data": {
      "text/plain": [
       "count    124.000000\n",
       "mean      37.595161\n",
       "std        4.539848\n",
       "min       26.100000\n",
       "25%       34.575000\n",
       "50%       37.600000\n",
       "75%       40.600000\n",
       "max       47.600000\n",
       "Name: Temperature, dtype: float64"
      ]
     },
     "execution_count": 223,
     "metadata": {},
     "output_type": "execute_result"
    }
   ],
   "source": [
    "nyc.Temperature.describe()"
   ]
  },
  {
   "cell_type": "code",
   "execution_count": 227,
   "id": "9a800482-47b9-4759-9727-e410bf9602da",
   "metadata": {},
   "outputs": [],
   "source": [
    "from scipy import stats\n",
    "linear_regression = stats.linregress(x=nyc.Date, y=nyc.Temperature)"
   ]
  },
  {
   "cell_type": "code",
   "execution_count": 228,
   "id": "0ddeb18a-6df3-471c-8d3a-86e8c5433179",
   "metadata": {},
   "outputs": [
    {
     "data": {
      "text/plain": [
       "0.014771361132966163"
      ]
     },
     "execution_count": 228,
     "metadata": {},
     "output_type": "execute_result"
    }
   ],
   "source": [
    "linear_regression.slope"
   ]
  },
  {
   "cell_type": "code",
   "execution_count": 229,
   "id": "53a5225d-be8a-4455-bf77-b436744c57da",
   "metadata": {},
   "outputs": [
    {
     "data": {
      "text/plain": [
       "8.694993233674289"
      ]
     },
     "execution_count": 229,
     "metadata": {},
     "output_type": "execute_result"
    }
   ],
   "source": [
    "linear_regression.intercept"
   ]
  },
  {
   "cell_type": "code",
   "execution_count": 230,
   "id": "43d95c8b-d9a3-4b0c-ae86-06ef0adada60",
   "metadata": {},
   "outputs": [
    {
     "data": {
      "text/plain": [
       "38.51837136113297"
      ]
     },
     "execution_count": 230,
     "metadata": {},
     "output_type": "execute_result"
    }
   ],
   "source": [
    "linear_regression.slope * 2019 + linear_regression.intercept"
   ]
  },
  {
   "cell_type": "code",
   "execution_count": 231,
   "id": "6fa5778f-500b-4de4-b594-639c8ec94416",
   "metadata": {},
   "outputs": [
    {
     "data": {
      "text/plain": [
       "36.612865774980335"
      ]
     },
     "execution_count": 231,
     "metadata": {},
     "output_type": "execute_result"
    }
   ],
   "source": [
    "linear_regression.slope * 1890 + linear_regression.intercept"
   ]
  },
  {
   "cell_type": "code",
   "execution_count": 234,
   "id": "c700bac0-44e4-483c-84ab-ac451a990ecc",
   "metadata": {},
   "outputs": [
    {
     "data": {
      "text/plain": [
       "(10.0, 70.0)"
      ]
     },
     "execution_count": 234,
     "metadata": {},
     "output_type": "execute_result"
    }
   ],
   "source": [
    "import seaborn as sns\n",
    "sns.set_style('whitegrid')\n",
    "axes = sns.regplot(x=nyc.Date, y=nyc.Temperature)\n",
    "axes.set_ylim(10, 70)"
   ]
  },
  {
   "cell_type": "code",
   "execution_count": 235,
   "id": "131c7ba6-4a9d-4183-af85-27987e377c54",
   "metadata": {},
   "outputs": [],
   "source": [
    "year = 2019\n",
    "slope = linear_regression.slope\n",
    "intercept = linear_regression.intercept\n",
    "temperature = slope * year + intercept\n",
    "while temperature < 40.0:\n",
    "    year += 1\n",
    "    temperature = slope * year + intercept"
   ]
  },
  {
   "cell_type": "code",
   "execution_count": 236,
   "id": "8d90a18b-e2aa-497a-8a69-76e077296d0f",
   "metadata": {},
   "outputs": [
    {
     "data": {
      "text/plain": [
       "2120"
      ]
     },
     "execution_count": 236,
     "metadata": {},
     "output_type": "execute_result"
    }
   ],
   "source": [
    "year"
   ]
  },
  {
   "cell_type": "code",
   "execution_count": 237,
   "id": "605ee225-e116-47f8-b7ef-e9d51e876a7c",
   "metadata": {},
   "outputs": [
    {
     "name": "stdout",
     "output_type": "stream",
     "text": [
      "Using matplotlib backend: TkAgg\n",
      "%pylab is deprecated, use %matplotlib inline and import the required libraries.\n",
      "Populating the interactive namespace from numpy and matplotlib\n"
     ]
    },
    {
     "name": "stderr",
     "output_type": "stream",
     "text": [
      "C:\\Users\\15736\\Miniconda3\\lib\\site-packages\\IPython\\core\\magics\\pylab.py:162: UserWarning: pylab import has clobbered these variables: ['time', 'axes', 'shuffle', 'random', 'figure']\n",
      "`%matplotlib` prevents importing * from pylab and numpy\n",
      "  warn(\"pylab import has clobbered these variables: %s\"  % clobbered +\n"
     ]
    }
   ],
   "source": [
    "%pylab"
   ]
  },
  {
   "cell_type": "code",
   "execution_count": 239,
   "id": "8970d50b-c5fa-46f4-8aa0-2827b76bdb29",
   "metadata": {},
   "outputs": [],
   "source": [
    "year = 2021\n",
    "slope = linear_regression.slope\n",
    "intercept = linear_regression.intercept\n",
    "temperature = slope * year + intercept\n",
    "while temperature <= 40.0:\n",
    "    year += 1\n",
    "    temperature = slope * year + intercept"
   ]
  },
  {
   "cell_type": "code",
   "execution_count": 240,
   "id": "c3c6d4e4-97c3-4e63-a461-15dd9634b2a1",
   "metadata": {},
   "outputs": [
    {
     "data": {
      "text/plain": [
       "40.01027883556255"
      ]
     },
     "execution_count": 240,
     "metadata": {},
     "output_type": "execute_result"
    }
   ],
   "source": [
    "temperature"
   ]
  },
  {
   "cell_type": "code",
   "execution_count": 241,
   "id": "c6c5d539-0f63-4d0d-ba71-9536d2ee97e5",
   "metadata": {},
   "outputs": [],
   "source": [
    "#missy bernskoetter"
   ]
  }
 ],
 "metadata": {
  "kernelspec": {
   "display_name": "Python 3 (ipykernel)",
   "language": "python",
   "name": "python3"
  },
  "language_info": {
   "codemirror_mode": {
    "name": "ipython",
    "version": 3
   },
   "file_extension": ".py",
   "mimetype": "text/x-python",
   "name": "python",
   "nbconvert_exporter": "python",
   "pygments_lexer": "ipython3",
   "version": "3.9.12"
  }
 },
 "nbformat": 4,
 "nbformat_minor": 5
}
